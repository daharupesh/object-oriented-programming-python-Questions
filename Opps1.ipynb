{
 "cells": [
  {
   "cell_type": "markdown",
   "metadata": {},
   "source": [
    "# Inheritance\n",
    "Inheritance is a fundamental concept in object-oriented programming (OOP) where a class (called a child or subclass) inherits attributes and methods from another class (called a parent or superclass). In Python, there are several types of inheritance:\n",
    "\n",
    "1. **Single Inheritance**\n",
    "2. **Multiple Inheritance**\n",
    "3. **Multilevel Inheritance**\n",
    "4. **Hierarchical Inheritance**\n",
    "5. **Hybrid Inheritance**\n",
    "\n",
    "### 1. Single Inheritance\n",
    "Single inheritance occurs when a class inherits from only one parent class.\n",
    "\n",
    "```python\n",
    "class Parent:\n",
    "    def __init__(self, name):\n",
    "        self.name = name\n",
    "    \n",
    "    def display_name(self):\n",
    "        print(f\"Name: {self.name}\")\n",
    "\n",
    "class Child(Parent):\n",
    "    def __init__(self, name, age):\n",
    "        super().__init__(name)\n",
    "        self.age = age\n",
    "    \n",
    "    def display_age(self):\n",
    "        print(f\"Age: {self.age}\")\n",
    "\n",
    "child = Child(\"Alice\", 12)\n",
    "child.display_name()  # Output: Name: Alice\n",
    "child.display_age()   # Output: Age: 12\n",
    "```\n",
    "\n",
    "### 2. Multiple Inheritance\n",
    "Multiple inheritance occurs when a class inherits from more than one parent class.\n",
    "\n",
    "```python\n",
    "class Father:\n",
    "    def __init__(self, name):\n",
    "        self.name = name\n",
    "    \n",
    "    def show_father(self):\n",
    "        print(f\"Father's Name: {self.name}\")\n",
    "\n",
    "class Mother:\n",
    "    def __init__(self, name):\n",
    "        self.name = name\n",
    "    \n",
    "    def show_mother(self):\n",
    "        print(f\"Mother's Name: {self.name}\")\n",
    "\n",
    "class Child(Father, Mother):\n",
    "    def __init__(self, father_name, mother_name, child_name):\n",
    "        Father.__init__(self, father_name)\n",
    "        Mother.__init__(self, mother_name)\n",
    "        self.child_name = child_name\n",
    "    \n",
    "    def show_child(self):\n",
    "        print(f\"Child's Name: {self.child_name}\")\n",
    "\n",
    "child = Child(\"John\", \"Jane\", \"Alice\")\n",
    "child.show_father()  # Output: Father's Name: John\n",
    "child.show_mother()  # Output: Mother's Name: Jane\n",
    "child.show_child()   # Output: Child's Name: Alice\n",
    "```\n",
    "\n",
    "### 3. Multilevel Inheritance\n",
    "Multilevel inheritance occurs when a class inherits from a parent class, which in turn inherits from another parent class.\n",
    "\n",
    "```python\n",
    "class Grandparent:\n",
    "    def __init__(self, name):\n",
    "        self.name = name\n",
    "    \n",
    "    def show_grandparent(self):\n",
    "        print(f\"Grandparent's Name: {self.name}\")\n",
    "\n",
    "class Parent(Grandparent):\n",
    "    def __init__(self, name, parent_name):\n",
    "        super().__init__(name)\n",
    "        self.parent_name = parent_name\n",
    "    \n",
    "    def show_parent(self):\n",
    "        print(f\"Parent's Name: {self.parent_name}\")\n",
    "\n",
    "class Child(Parent):\n",
    "    def __init__(self, name, parent_name, child_name):\n",
    "        super().__init__(name, parent_name)\n",
    "        self.child_name = child_name\n",
    "    \n",
    "    def show_child(self):\n",
    "        print(f\"Child's Name: {self.child_name}\")\n",
    "\n",
    "child = Child(\"Eve\", \"John\", \"Alice\")\n",
    "child.show_grandparent()  # Output: Grandparent's Name: Eve\n",
    "child.show_parent()       # Output: Parent's Name: John\n",
    "child.show_child()        # Output: Child's Name: Alice\n",
    "```\n",
    "\n",
    "### 4. Hierarchical Inheritance\n",
    "Hierarchical inheritance occurs when multiple classes inherit from the same parent class.\n",
    "\n",
    "```python\n",
    "class Parent:\n",
    "    def __init__(self, name):\n",
    "        self.name = name\n",
    "    \n",
    "    def show_name(self):\n",
    "        print(f\"Parent's Name: {self.name}\")\n",
    "\n",
    "class Child1(Parent):\n",
    "    def __init__(self, name, child1_name):\n",
    "        super().__init__(name)\n",
    "        self.child1_name = child1_name\n",
    "    \n",
    "    def show_child1(self):\n",
    "        print(f\"Child1's Name: {self.child1_name}\")\n",
    "\n",
    "class Child2(Parent):\n",
    "    def __init__(self, name, child2_name):\n",
    "        super().__init__(name)\n",
    "        self.child2_name = child2_name\n",
    "    \n",
    "    def show_child2(self):\n",
    "        print(f\"Child2's Name: {self.child2_name}\")\n",
    "\n",
    "child1 = Child1(\"John\", \"Alice\")\n",
    "child2 = Child2(\"John\", \"Bob\")\n",
    "\n",
    "child1.show_name()     # Output: Parent's Name: John\n",
    "child1.show_child1()   # Output: Child1's Name: Alice\n",
    "child2.show_name()     # Output: Parent's Name: John\n",
    "child2.show_child2()   # Output: Child2's Name: Bob\n",
    "```\n",
    "\n",
    "### 5. Hybrid Inheritance\n",
    "Hybrid inheritance is a combination of two or more types of inheritance. It can be a mix of hierarchical, multiple, and multilevel inheritance.\n",
    "\n",
    "```python\n",
    "class Base:\n",
    "    def __init__(self, base_name):\n",
    "        self.base_name = base_name\n",
    "    \n",
    "    def show_base(self):\n",
    "        print(f\"Base Name: {self.base_name}\")\n",
    "\n",
    "class Derived1(Base):\n",
    "    def __init__(self, base_name, derived1_name):\n",
    "        super().__init__(base_name)\n",
    "        self.derived1_name = derived1_name\n",
    "    \n",
    "    def show_derived1(self):\n",
    "        print(f\"Derived1 Name: {self.derived1_name}\")\n",
    "\n",
    "class Derived2(Base):\n",
    "    def __init__(self, base_name, derived2_name):\n",
    "        super().__init__(base_name)\n",
    "        self.derived2_name = derived2_name\n",
    "    \n",
    "    def show_derived2(self):\n",
    "        print(f\"Derived2 Name: {self.derived2_name}\")\n",
    "\n",
    "class Hybrid(Derived1, Derived2):\n",
    "    def __init__(self, base_name, derived1_name, derived2_name, hybrid_name):\n",
    "        Derived1.__init__(self, base_name, derived1_name)\n",
    "        Derived2.__init__(self, base_name, derived2_name)\n",
    "        self.hybrid_name = hybrid_name\n",
    "    \n",
    "    def show_hybrid(self):\n",
    "        print(f\"Hybrid Name: {self.hybrid_name}\")\n",
    "\n",
    "hybrid = Hybrid(\"Base\", \"Derived1\", \"Derived2\", \"Hybrid\")\n",
    "hybrid.show_base()       # Output: Base Name: Base\n",
    "hybrid.show_derived1()   # Output: Derived1 Name: Derived1\n",
    "hybrid.show_derived2()   # Output: Derived2 Name: Derived2\n",
    "hybrid.show_hybrid()     # Output: Hybrid Name: Hybrid\n",
    "```\n",
    "\n",
    "In this example, `Hybrid` class inherits from both `Derived1` and `Derived2` classes, which in turn inherit from the `Base` class, demonstrating a mix of multiple and multilevel inheritance."
   ]
  },
  {
   "cell_type": "markdown",
   "metadata": {},
   "source": [
    "    Inheritance is a fundamental feature of object-oriented programming (OOP) that provides several advantages:\n",
    "\n",
    "1. **Code Reusability**:\n",
    "   - Inheritance allows for the reuse of existing code. By inheriting from a parent class, a child class can use the methods and attributes of the parent class without rewriting them, reducing redundancy and effort.\n",
    "\n",
    "2. **Maintainability**:\n",
    "   - Changes made to the parent class automatically propagate to child classes. This means you can make modifications in one place (the parent class) and have those changes reflected in all child classes, simplifying maintenance and updates.\n",
    "\n",
    "3. **Extensibility**:\n",
    "   - Inheritance allows you to extend the functionality of existing classes. Child classes can add new methods and attributes or override existing ones to provide specialized behavior.\n",
    "\n",
    "4. **Polymorphism**:\n",
    "   - Inheritance supports polymorphism, which allows objects of different classes to be treated as objects of a common parent class. This enables writing more flexible and general code that can work with different types of objects in a uniform way.\n",
    "\n",
    "5. **Data Abstraction**:\n",
    "   - Inheritance allows for abstracting common features into a base class while letting child classes provide specific implementations. This abstraction helps in designing clearer and more modular systems.\n",
    "\n",
    "6. **Method Overriding**:\n",
    "   - Child classes can override methods of the parent class to provide specific implementations. This feature allows for customizing or extending the behavior of inherited methods.\n",
    "\n",
    "7. **Hierarchy Representation**:\n",
    "   - Inheritance helps represent hierarchical relationships between classes. This is useful in modeling real-world relationships and structures in a natural and intuitive way.\n",
    "\n",
    "8. **Encapsulation**:\n",
    "   - Inheritance promotes encapsulation by allowing the parent class to hide its implementation details while exposing a public interface for child classes. This separation of interface and implementation enhances modularity and reduces coupling.\n",
    "\n",
    "### Example\n",
    "\n",
    "Here is an example that demonstrates some of these advantages:\n",
    "\n",
    "```python\n",
    "class Animal:\n",
    "    def __init__(self, name):\n",
    "        self.name = name\n",
    "\n",
    "    def speak(self):\n",
    "        raise NotImplementedError(\"Subclass must implement abstract method\")\n",
    "\n",
    "class Dog(Animal):\n",
    "    def speak(self):\n",
    "        return f\"{self.name} says Woof!\"\n",
    "\n",
    "class Cat(Animal):\n",
    "    def speak(self):\n",
    "        return f\"{self.name} says Meow!\"\n",
    "\n",
    "# Reusability: Dog and Cat classes reuse the __init__ method from Animal\n",
    "# Extensibility: Dog and Cat classes extend the Animal class with specific behavior\n",
    "\n",
    "dog = Dog(\"Buddy\")\n",
    "cat = Cat(\"Whiskers\")\n",
    "\n",
    "# Polymorphism: Both Dog and Cat can be treated as Animals\n",
    "animals = [dog, cat]\n",
    "\n",
    "for animal in animals:\n",
    "    print(animal.speak())\n",
    "```\n",
    "\n",
    "### Output\n",
    "```\n",
    "Buddy says Woof!\n",
    "Whiskers says Meow!\n",
    "```\n",
    "\n",
    "### Explanation\n",
    "\n",
    "1. **Code Reusability**: The `Dog` and `Cat` classes reuse the `__init__` method from the `Animal` class.\n",
    "2. **Extensibility**: The `Dog` and `Cat` classes extend the `Animal` class by implementing their own `speak` methods.\n",
    "3. **Polymorphism**: Both `Dog` and `Cat` instances can be treated as `Animal` objects. The loop iterates over a list of `Animal` objects and calls the `speak` method, demonstrating polymorphic behavior.\n",
    "4. **Hierarchy Representation**: The example shows a simple hierarchy where `Dog` and `Cat` are subclasses of `Animal`, representing a natural relationship between the classes.\n",
    "\n",
    "These advantages make inheritance a powerful tool in designing robust and maintainable object-oriented systems."
   ]
  },
  {
   "cell_type": "code",
   "execution_count": 14,
   "metadata": {},
   "outputs": [],
   "source": [
    "class a:\n",
    "    def test(self):\n",
    "        print(\"This test method is a part of class a.\")\n",
    "    def test1(self):\n",
    "        print(\"this is test 1 from class b.\")    \n"
   ]
  },
  {
   "cell_type": "code",
   "execution_count": 15,
   "metadata": {},
   "outputs": [
    {
     "name": "stdout",
     "output_type": "stream",
     "text": [
      "This test method is a part of class a.\n"
     ]
    }
   ],
   "source": [
    "obj_a = a()\n",
    "obj_a.test()"
   ]
  },
  {
   "cell_type": "markdown",
   "metadata": {},
   "source": [
    "In Inheritance we can access the method of parrent by child"
   ]
  },
  {
   "cell_type": "code",
   "execution_count": 20,
   "metadata": {},
   "outputs": [],
   "source": [
    "class b(a):\n",
    "    def test1b(self):\n",
    "        print(\"This is test1b\")"
   ]
  },
  {
   "cell_type": "code",
   "execution_count": 21,
   "metadata": {},
   "outputs": [],
   "source": [
    "obj_b = b()"
   ]
  },
  {
   "cell_type": "code",
   "execution_count": 23,
   "metadata": {},
   "outputs": [
    {
     "name": "stdout",
     "output_type": "stream",
     "text": [
      "This is test1b\n"
     ]
    }
   ],
   "source": [
    "obj_b.test1b()"
   ]
  },
  {
   "cell_type": "markdown",
   "metadata": {},
   "source": [
    "# Multilevel Inheritance:\n",
    "\n",
    "\n",
    "Multilevel inheritance in Python occurs when a class inherits from a class that is itself a subclass of another class. This creates a chain of inheritance, where each class inherits from the one before it. This structure allows a class to inherit attributes and methods from its ancestor classes, passing down behavior through multiple levels.\n",
    "\n",
    "### Example of Multilevel Inheritance\n",
    "\n",
    "```python\n",
    "class Grandparent:\n",
    "    def __init__(self, name):\n",
    "        self.name = name\n",
    "    \n",
    "    def show_grandparent(self):\n",
    "        print(f\"Grandparent's Name: {self.name}\")\n",
    "\n",
    "class Parent(Grandparent):\n",
    "    def __init__(self, name, parent_name):\n",
    "        super().__init__(name)\n",
    "        self.parent_name = parent_name\n",
    "    \n",
    "    def show_parent(self):\n",
    "        print(f\"Parent's Name: {self.parent_name}\")\n",
    "\n",
    "class Child(Parent):\n",
    "    def __init__(self, name, parent_name, child_name):\n",
    "        super().__init__(name, parent_name)\n",
    "        self.child_name = child_name\n",
    "    \n",
    "    def show_child(self):\n",
    "        print(f\"Child's Name: {self.child_name}\")\n",
    "\n",
    "# Creating an instance of Child\n",
    "child = Child(\"Eve\", \"John\", \"Alice\")\n",
    "\n",
    "# Calling methods from different levels of the inheritance hierarchy\n",
    "child.show_grandparent()  # Output: Grandparent's Name: Eve\n",
    "child.show_parent()       # Output: Parent's Name: John\n",
    "child.show_child()        # Output: Child's Name: Alice\n",
    "```\n",
    "\n",
    "### Explanation\n",
    "\n",
    "1. **Grandparent Class**: This is the top-level class with an `__init__` method that initializes the `name` attribute and a method `show_grandparent` to display the grandparent's name.\n",
    "\n",
    "2. **Parent Class**: This class inherits from `Grandparent`. It has its own `__init__` method that initializes both the `name` (by calling `super().__init__(name)`) and the `parent_name`. It also defines a method `show_parent` to display the parent's name.\n",
    "\n",
    "3. **Child Class**: This class inherits from `Parent`. It has its own `__init__` method that initializes the `name` and `parent_name` (by calling `super().__init__(name, parent_name)`) and adds its own `child_name` attribute. It defines a method `show_child` to display the child's name.\n",
    "\n",
    "4. **Instance Creation**: An instance of the `Child` class is created with the names \"Eve\", \"John\", and \"Alice\". This instance has access to methods from all levels of the inheritance chain.\n",
    "\n",
    "5. **Method Calls**: The `child` object can call `show_grandparent`, `show_parent`, and `show_child` methods. These methods are inherited from `Grandparent`, `Parent`, and `Child` classes, respectively.\n",
    "\n",
    "This example demonstrates how attributes and methods are inherited across multiple levels, allowing the `Child` class to access properties and methods defined in both its parent and grandparent classes."
   ]
  },
  {
   "cell_type": "code",
   "execution_count": 32,
   "metadata": {},
   "outputs": [],
   "source": [
    "class lecture:\n",
    "    def topic(self):\n",
    "        print(\"Todays class we are discussing about inheritance concept in opps..\")\n",
    "    def timing(self):\n",
    "        print(\"tiing for todays class in 9 AM IST\")\n",
    "    def end_time(self):\n",
    "        print(\"today i will try to end class bit early\")        "
   ]
  },
  {
   "cell_type": "markdown",
   "metadata": {},
   "source": []
  },
  {
   "cell_type": "code",
   "execution_count": 33,
   "metadata": {},
   "outputs": [],
   "source": [
    "class Student(lecture):\n",
    "    def student_details(self):\n",
    "        print(\"This class will give you a student details\")"
   ]
  },
  {
   "cell_type": "code",
   "execution_count": 34,
   "metadata": {},
   "outputs": [],
   "source": [
    "naval = Student()"
   ]
  },
  {
   "cell_type": "code",
   "execution_count": 35,
   "metadata": {},
   "outputs": [
    {
     "name": "stdout",
     "output_type": "stream",
     "text": [
      "Todays class we are discussing about inheritance concept in opps..\n"
     ]
    }
   ],
   "source": [
    "naval.topic()"
   ]
  },
  {
   "cell_type": "markdown",
   "metadata": {},
   "source": [
    "1. "
   ]
  },
  {
   "cell_type": "code",
   "execution_count": 36,
   "metadata": {},
   "outputs": [],
   "source": [
    "class teacher(Student):\n",
    "    def teacher_details(self):\n",
    "        print(\"This will give you details about teacher\")"
   ]
  },
  {
   "cell_type": "code",
   "execution_count": 37,
   "metadata": {},
   "outputs": [],
   "source": [
    "krishna = teacher()"
   ]
  },
  {
   "cell_type": "code",
   "execution_count": 38,
   "metadata": {},
   "outputs": [
    {
     "name": "stdout",
     "output_type": "stream",
     "text": [
      "tiing for todays class in 9 AM IST\n"
     ]
    }
   ],
   "source": [
    "krishna.timing()"
   ]
  },
  {
   "cell_type": "markdown",
   "metadata": {},
   "source": [
    "# Multiple Inheritance\n",
    "\n",
    "In Python, multiple inheritance allows a class to inherit from more than one parent class. This can be useful when a class needs to combine behaviors from multiple sources. However, it can also lead to complexities, such as the diamond problem, where a method resolution order (MRO) needs to be managed carefully.\n",
    "\n",
    "### Example of Multiple Inheritance\n",
    "\n",
    "Here’s an example demonstrating multiple inheritance:\n",
    "\n",
    "```python\n",
    "class Father:\n",
    "    def __init__(self, name):\n",
    "        self.name = name\n",
    "    \n",
    "    def show_father(self):\n",
    "        print(f\"Father's Name: {self.name}\")\n",
    "\n",
    "class Mother:\n",
    "    def __init__(self, name):\n",
    "        self.name = name\n",
    "    \n",
    "    def show_mother(self):\n",
    "        print(f\"Mother's Name: {self.name}\")\n",
    "\n",
    "class Child(Father, Mother):\n",
    "    def __init__(self, father_name, mother_name, child_name):\n",
    "        Father.__init__(self, father_name)\n",
    "        Mother.__init__(self, mother_name)\n",
    "        self.child_name = child_name\n",
    "    \n",
    "    def show_child(self):\n",
    "        print(f\"Child's Name: {self.child_name}\")\n",
    "\n",
    "# Creating an instance of Child\n",
    "child = Child(\"John\", \"Jane\", \"Alice\")\n",
    "\n",
    "# Calling methods from multiple parent classes\n",
    "child.show_father()  # Output: Father's Name: John\n",
    "child.show_mother()  # Output: Mother's Name: Jane\n",
    "child.show_child()   # Output: Child's Name: Alice\n",
    "```\n",
    "\n",
    "### Explanation\n",
    "\n",
    "1. **Father Class**: This class has an `__init__` method to initialize the `name` attribute and a method `show_father` to display the father’s name.\n",
    "\n",
    "2. **Mother Class**: This class also has an `__init__` method to initialize the `name` attribute and a method `show_mother` to display the mother’s name.\n",
    "\n",
    "3. **Child Class**: This class inherits from both `Father` and `Mother`. It initializes both parent classes using their respective `__init__` methods and adds its own attribute `child_name` along with the `show_child` method to display the child’s name.\n",
    "\n",
    "4. **Instance Creation**: An instance of the `Child` class is created with the names for the father, mother, and child. This instance can access methods from both parent classes (`Father` and `Mother`), as well as its own method.\n",
    "\n",
    "5. **Method Calls**: The `child` object can call `show_father`, `show_mother`, and `show_child`, demonstrating how the child class can access methods from multiple parent classes.\n",
    "\n",
    "### Method Resolution Order (MRO)\n",
    "\n",
    "In cases of multiple inheritance, Python uses a method resolution order (MRO) to determine the order in which base classes are searched when calling a method. You can check the MRO of a class using the `__mro__` attribute or the `mro()` method:\n",
    "\n",
    "```python\n",
    "print(Child.__mro__)\n",
    "# Output: (<class '__main__.Child'>, <class '__main__.Father'>, <class '__main__.Mother'>, <class 'object'>)\n",
    "\n",
    "print(Child.mro())\n",
    "# Output: [<class '__main__.Child'>, <class '__main__.Father'>, <class '__main__.Mother'>, <class 'object'>]\n",
    "```\n",
    "\n",
    "In this example, the MRO shows the order in which methods will be resolved, starting from the `Child` class and moving through the `Father`, `Mother`, and finally the `object` class."
   ]
  },
  {
   "cell_type": "code",
   "execution_count": 48,
   "metadata": {},
   "outputs": [],
   "source": [
    "class lecture:\n",
    "    def topic(self):\n",
    "        print(\"Todays class we are discussing about inheritance concept in opps..\")\n",
    "    def timing(self):\n",
    "        print(\"tiing for todays class in 9 AM IST\")\n",
    "    def end_time(self):\n",
    "        print(\"today i will try to end class bit early\")        "
   ]
  },
  {
   "cell_type": "code",
   "execution_count": 49,
   "metadata": {},
   "outputs": [],
   "source": [
    "class Student:\n",
    "    def student_details(self):\n",
    "        print(\"This class will give you a student details\")"
   ]
  },
  {
   "cell_type": "code",
   "execution_count": 45,
   "metadata": {},
   "outputs": [],
   "source": [
    "class teacher(Student,lecture):\n",
    "    def teacher_details(self):\n",
    "        print(\"This will give you details about teacher\")"
   ]
  },
  {
   "cell_type": "code",
   "execution_count": 46,
   "metadata": {},
   "outputs": [],
   "source": [
    "krish = teacher()"
   ]
  },
  {
   "cell_type": "code",
   "execution_count": 47,
   "metadata": {},
   "outputs": [
    {
     "name": "stdout",
     "output_type": "stream",
     "text": [
      "Todays class we are discussing about inheritance concept in opps..\n"
     ]
    }
   ],
   "source": [
    "krish.topic()"
   ]
  },
  {
   "cell_type": "markdown",
   "metadata": {},
   "source": [
    "In java multiple inheritance is not allowed because of ambiguity(more away of leaning or achieving there is no specific way to achieve)."
   ]
  },
  {
   "cell_type": "markdown",
   "metadata": {},
   "source": [
    "If the methods of same of two class then it go after Order first come first class of methods will print first."
   ]
  },
  {
   "cell_type": "markdown",
   "metadata": {},
   "source": [
    "Problem 1: Bank Account Create a class representing a bank account with attributes like account number, account holder name, and balance. Implement methods to deposit and withdraw money from the account.\n",
    "\n",
    "Problem 2: Employee Management Create a class representing an employee with attributes like employee ID, name, and salary. Implement methods to calculate the yearly bonus and display employee details.\n",
    "\n",
    "Problem 3: Vehicle Rental Create a class representing a vehicle rental system. Implement methods to rent a vehicle, return a vehicle, and display available vehicles.\n",
    "\n",
    "Problem 4: Library Catalog Create classes representing a library and a book. Implement methods to add books to the library, borrow books, and display available books.\n",
    "\n",
    "Problem 5: Product Inventory Create classes representing a product and an inventory system. Implement methods to add products to the inventory, update product quantity, and display available products.\n",
    "\n",
    "Problem 6: Shape Calculation Create a class representing a shape with attributes like length, width, and height. Implement methods to calculate the area and perimeter of the shape.\n",
    "\n",
    "Problem 7: Student Management Create a class representing a student with attributes like student ID, name, and grades. Implement methods to calculate the average grade and display student details.\n",
    "\n",
    "Problem 8: Email Management Create a class representing an email with attributes like sender, recipient, and subject. Implement methods to send an email and display email details.\n",
    "\n",
    "Problem 9: Social Media Profile Create a class representing a social media profile with attributes like username and posts. Implement methods to add posts, display posts, and search for posts by keyword.\n",
    "\n",
    "Problem 10: ToDo List Create a class representing a ToDo list with attributes like tasks and due dates. Implement methods to add tasks, mark tasks as completed, and display pending tasks."
   ]
  },
  {
   "cell_type": "code",
   "execution_count": null,
   "metadata": {},
   "outputs": [],
   "source": []
  }
 ],
 "metadata": {
  "kernelspec": {
   "display_name": "Python 3",
   "language": "python",
   "name": "python3"
  },
  "language_info": {
   "codemirror_mode": {
    "name": "ipython",
    "version": 3
   },
   "file_extension": ".py",
   "mimetype": "text/x-python",
   "name": "python",
   "nbconvert_exporter": "python",
   "pygments_lexer": "ipython3",
   "version": "3.11.0"
  }
 },
 "nbformat": 4,
 "nbformat_minor": 2
}
