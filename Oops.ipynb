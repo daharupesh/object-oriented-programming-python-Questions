{
 "cells": [
  {
   "cell_type": "markdown",
   "metadata": {},
   "source": [
    "In computer science, \"OOPS\" stands for \"Object-Oriented Programming System.\" It is a programming paradigm that uses objects and classes to organize code. This approach emphasizes the concepts of encapsulation, inheritance, and polymorphism, which help in creating modular, reusable, and maintainable code.\n",
    "\n",
    "### Key Concepts of OOPS:\n",
    "\n",
    "1. **Encapsulation:** \n",
    "   - **Definition:** The bundling of data with the methods that operate on that data.\n",
    "   - **Example:** A class `Car` with private data members `speed` and `fuel` and public methods to access and modify these variables.\n",
    "     ```python\n",
    "     class Car:\n",
    "         def __init__(self, speed, fuel):\n",
    "             self.__speed = speed  # private variable\n",
    "             self.__fuel = fuel    # private variable\n",
    "         \n",
    "         def get_speed(self):\n",
    "             return self.__speed\n",
    "         \n",
    "         def set_speed(self, speed):\n",
    "             self.__speed = speed\n",
    "         \n",
    "         def get_fuel(self):\n",
    "             return self.__fuel\n",
    "         \n",
    "         def set_fuel(self, fuel):\n",
    "             self.__fuel = fuel\n",
    "     ```\n",
    "\n",
    "2. **Inheritance:**\n",
    "   - **Definition:** A mechanism by which one class can inherit properties and behaviors from another class.\n",
    "   - **Example:** A class `ElectricCar` that inherits from the `Car` class.\n",
    "     ```python\n",
    "     class ElectricCar(Car):\n",
    "         def __init__(self, speed, fuel, battery):\n",
    "             super().__init__(speed, fuel)\n",
    "             self.__battery = battery  # additional attribute for ElectricCar\n",
    "         \n",
    "         def get_battery(self):\n",
    "             return self.__battery\n",
    "         \n",
    "         def set_battery(self, battery):\n",
    "             self.__battery = battery\n",
    "     ```\n",
    "\n",
    "3. **Polymorphism:**\n",
    "   - **Definition:** The ability of different classes to be treated as instances of the same class through inheritance. It allows one interface to be used for a general class of actions.\n",
    "   - **Example:** Different types of cars having a `drive` method, but each implementing it differently.\n",
    "     ```python\n",
    "     class Car:\n",
    "         def drive(self):\n",
    "             print(\"Car is driving\")\n",
    "         \n",
    "     class ElectricCar(Car):\n",
    "         def drive(self):\n",
    "             print(\"ElectricCar is driving silently\")\n",
    "         \n",
    "     class DieselCar(Car):\n",
    "         def drive(self):\n",
    "             print(\"DieselCar is driving with a rumble\")\n",
    "     \n",
    "     def test_drive(car):\n",
    "         car.drive()\n",
    "     \n",
    "     car = Car()\n",
    "     electric_car = ElectricCar()\n",
    "     diesel_car = DieselCar()\n",
    "     \n",
    "     test_drive(car)\n",
    "     test_drive(electric_car)\n",
    "     test_drive(diesel_car)\n",
    "     ```\n",
    "\n",
    "4. **Abstraction:**\n",
    "   - **Definition:** The concept of hiding the complex implementation details and showing only the essential features of the object.\n",
    "   - **Example:** A simple interface to interact with complex functionalities.\n",
    "     ```python\n",
    "     from abc import ABC, abstractmethod\n",
    "     \n",
    "     class Animal(ABC):\n",
    "         @abstractmethod\n",
    "         def sound(self):\n",
    "             pass\n",
    "     \n",
    "     class Dog(Animal):\n",
    "         def sound(self):\n",
    "             return \"Bark\"\n",
    "         \n",
    "     class Cat(Animal):\n",
    "         def sound(self):\n",
    "             return \"Meow\"\n",
    "     \n",
    "     def animal_sound(animal):\n",
    "         print(animal.sound())\n",
    "     \n",
    "     dog = Dog()\n",
    "     cat = Cat()\n",
    "     \n",
    "     animal_sound(dog)\n",
    "     animal_sound(cat)\n",
    "     ```\n",
    "\n",
    "### Benefits of OOPS:\n",
    "- **Modularity:** Code is organized into discrete classes and objects.\n",
    "- **Reusability:** Classes can be reused across different programs.\n",
    "- **Maintainability:** Easier to manage and modify existing code without affecting other parts.\n",
    "- **Scalability:** Facilitates code scalability for large applications.\n",
    "\n",
    "Object-oriented programming (OOP) is widely used in software development and is implemented in many programming languages such as Python, Java, C++, and C#."
   ]
  },
  {
   "cell_type": "markdown",
   "metadata": {},
   "source": [
    "# Class : \n",
    "Class is classification of real world entities.(real world classification)\n",
    "\n",
    "- Classification of segrigation of real world entities...\n",
    "- Class is Blue print of anything.\n",
    "- Object is variable of Class( a=10 , b= 12 , c= 23 (These all are the variable of class))\n",
    "- Object is instances of Class.\n",
    "\n",
    "\n",
    "\n",
    "\n",
    "\n"
   ]
  },
  {
   "cell_type": "markdown",
   "metadata": {},
   "source": [
    "Write a code to open banck account by using class in python."
   ]
  },
  {
   "cell_type": "code",
   "execution_count": 15,
   "metadata": {},
   "outputs": [],
   "source": [
    "class bankaccount:\n",
    "    def openaccount(self, name , email_id):   # self work as pointer or (Reference to the classes) it give the address...\n",
    "        print(\"open an account by taking name and mail id\")\n",
    "        return name + email_id\n",
    "    def deposite(self, amount):\n",
    "        print(\"I am trying to deposite an amount in my account\")\n",
    "\n",
    "    def withdraw(self , amt_with):\n",
    "        print(\"withdraw the amount\")\n",
    "        return amt_with\n",
    "\n",
    "    def update_details(self , name_update , email_update):\n",
    "        print(\"This function will updates my name and mail if for account\")    \n",
    "    # All of the functions belongs to similar kinds of problem statements\n",
    "    #generic functions  (Generic functions are functions defined to work with any data type.)\n",
    "    # Kinds of blue print..\n"
   ]
  },
  {
   "cell_type": "code",
   "execution_count": 16,
   "metadata": {},
   "outputs": [
    {
     "name": "stdout",
     "output_type": "stream",
     "text": [
      "open an account by taking name and mail id\n"
     ]
    },
    {
     "data": {
      "text/plain": [
       "'Rupeshdaharuepesh21@gmail.com'"
      ]
     },
     "execution_count": 16,
     "metadata": {},
     "output_type": "execute_result"
    }
   ],
   "source": [
    "rupesh = bankaccount()\n",
    "rupesh.openaccount(\"Rupesh\" , \"daharuepesh21@gmail.com\")"
   ]
  },
  {
   "cell_type": "code",
   "execution_count": 17,
   "metadata": {},
   "outputs": [
    {
     "name": "stdout",
     "output_type": "stream",
     "text": [
      "withdraw the amount\n"
     ]
    },
    {
     "data": {
      "text/plain": [
       "7000"
      ]
     },
     "execution_count": 17,
     "metadata": {},
     "output_type": "execute_result"
    }
   ],
   "source": [
    "rupesh.withdraw(7000)"
   ]
  },
  {
   "cell_type": "markdown",
   "metadata": {},
   "source": [
    "# Constuctor\n",
    "\n",
    "In Python, a constructor is a special method called when an object is created. The constructor initializes the object's attributes and ensures the object is set up correctly before it is used. In Python, the constructor method is defined using the `__init__` method.\n",
    "\n",
    "### Definition and Example:\n",
    "\n",
    "1. **Definition:**\n",
    "   - The `__init__` method is the constructor in Python. It is automatically called when a new instance of a class is created.\n",
    "   - The first parameter of `__init__` is always `self`, which refers to the instance being created.\n",
    "\n",
    "2. **Example:**\n",
    "\n",
    "```python\n",
    "class Car:\n",
    "    def __init__(self, make, model, year):\n",
    "        self.make = make  # attribute for car make\n",
    "        self.model = model  # attribute for car model\n",
    "        self.year = year  # attribute for car year\n",
    "\n",
    "    def display_info(self):\n",
    "        print(f\"{self.year} {self.make} {self.model}\")\n",
    "\n",
    "# Creating an instance of the Car class\n",
    "my_car = Car(\"Toyota\", \"Corolla\", 2021)\n",
    "\n",
    "# Accessing the display_info method\n",
    "my_car.display_info()  # Output: 2021 Toyota Corolla\n",
    "```\n",
    "\n",
    "### Breakdown of the Example:\n",
    "\n",
    "- **Class Definition:**\n",
    "  - `class Car:` defines a class named `Car`.\n",
    "- **Constructor Method (`__init__`):**\n",
    "  - `def __init__(self, make, model, year):` is the constructor method.\n",
    "  - `self.make = make`, `self.model = model`, and `self.year = year` initialize the attributes of the `Car` class.\n",
    "- **Instance Creation:**\n",
    "  - `my_car = Car(\"Toyota\", \"Corolla\", 2021)` creates an instance of the `Car` class.\n",
    "  - The `__init__` method is automatically called with the arguments `\"Toyota\"`, `\"Corolla\"`, and `2021`, initializing the `make`, `model`, and `year` attributes of the `my_car` object.\n",
    "- **Method Access:**\n",
    "  - `my_car.display_info()` calls the `display_info` method, which prints the car's details.\n",
    "\n",
    "### Key Points:\n",
    "\n",
    "- **Automatic Invocation:** The constructor method `__init__` is automatically invoked when a new object of the class is instantiated.\n",
    "- **Initialization:** It is typically used to initialize the object's attributes with values.\n",
    "- **`self` Parameter:** The first parameter of the `__init__` method is always `self`, which represents the instance of the class.\n",
    "\n",
    "### Additional Example:\n",
    "\n",
    "```python\n",
    "class Point:\n",
    "    def __init__(self, x, y):\n",
    "        self.x = x  # attribute for x-coordinate\n",
    "        self.y = y  # attribute for y-coordinate\n",
    "\n",
    "    def display_coordinates(self):\n",
    "        print(f\"Point({self.x}, {self.y})\")\n",
    "\n",
    "# Creating an instance of the Point class\n",
    "p = Point(5, 10)\n",
    "\n",
    "# Accessing the display_coordinates method\n",
    "p.display_coordinates()  # Output: Point(5, 10)\n",
    "```\n",
    "\n",
    "In this example, the `Point` class has an `__init__` method that initializes the `x` and `y` coordinates. When a `Point` object is created, the constructor sets the coordinates, and the `display_coordinates` method prints them."
   ]
  },
  {
   "cell_type": "code",
   "execution_count": 36,
   "metadata": {},
   "outputs": [],
   "source": [
    "class List_ops:\n",
    "    # a =10\n",
    "    # l = [3,4,5,9,8,9]\n",
    "\n",
    "    def __init__(self,l):  # this is called constructor concept ...bind with class and call pass different data to the different object\n",
    "        self.l1 = l\n",
    "    \n",
    "    def extractfromindex(self, l , index):\n",
    "        return l[index]\n",
    "    \n",
    "    def extractrangedata(self,l , start, end):\n",
    "        return l[start:end]\n",
    "    \n",
    "    def extracteven(self,l):\n",
    "        l1 = []\n",
    "        for i in l:\n",
    "            if i%2==0:\n",
    "                l1.append(i)\n",
    "        return l1\n",
    "    \n",
    "    def extractodd(self, l):\n",
    "        l1 = []\n",
    "        for i in l:\n",
    "            if i%2 !=0:\n",
    "                l1.append(i)  \n",
    "        return l1\n",
    "                 \n"
   ]
  },
  {
   "cell_type": "code",
   "execution_count": 42,
   "metadata": {},
   "outputs": [],
   "source": [
    "first_objects1 = List_ops([2,3,4,6,10])\n",
    "first_objects = List_ops([3,45,7,8])\n"
   ]
  },
  {
   "cell_type": "code",
   "execution_count": 39,
   "metadata": {},
   "outputs": [
    {
     "data": {
      "text/plain": [
       "[2, 3, 4, 6, 10]"
      ]
     },
     "execution_count": 39,
     "metadata": {},
     "output_type": "execute_result"
    }
   ],
   "source": [
    "first_objects1.l1"
   ]
  },
  {
   "cell_type": "code",
   "execution_count": 40,
   "metadata": {},
   "outputs": [
    {
     "data": {
      "text/plain": [
       "8"
      ]
     },
     "execution_count": 40,
     "metadata": {},
     "output_type": "execute_result"
    }
   ],
   "source": [
    "first_objects.extractfromindex([2,5,6,8,9],3)"
   ]
  },
  {
   "cell_type": "code",
   "execution_count": 41,
   "metadata": {},
   "outputs": [
    {
     "data": {
      "text/plain": [
       "[3, 5, 9, 5]"
      ]
     },
     "execution_count": 41,
     "metadata": {},
     "output_type": "execute_result"
    }
   ],
   "source": [
    "first_objects.extractodd([3,4,5,78,9,5])"
   ]
  },
  {
   "cell_type": "code",
   "execution_count": 30,
   "metadata": {},
   "outputs": [
    {
     "data": {
      "text/plain": [
       "[3, 4, 5, 9, 8, 9]"
      ]
     },
     "execution_count": 30,
     "metadata": {},
     "output_type": "execute_result"
    }
   ],
   "source": [
    "first_objects.l\n",
    "# first_objects.a"
   ]
  },
  {
   "cell_type": "code",
   "execution_count": 31,
   "metadata": {},
   "outputs": [
    {
     "data": {
      "text/plain": [
       "10"
      ]
     },
     "execution_count": 31,
     "metadata": {},
     "output_type": "execute_result"
    }
   ],
   "source": [
    "first_objects.a"
   ]
  },
  {
   "cell_type": "markdown",
   "metadata": {},
   "source": [
    "### Whenever you are trying to write function inside the class you should give the reference in side the fuction( it is also pointer)= self or anyother name..."
   ]
  },
  {
   "cell_type": "markdown",
   "metadata": {},
   "source": [
    "How to achieves the different different data for different objects"
   ]
  },
  {
   "cell_type": "markdown",
   "metadata": {},
   "source": [
    "``` python Dunder function __init__()---- it is inbuilt function ```"
   ]
  },
  {
   "cell_type": "code",
   "execution_count": 43,
   "metadata": {},
   "outputs": [],
   "source": [
    "class List_ops:\n",
    "    # a =10\n",
    "    # l = [3,4,5,9,8,9]\n",
    "\n",
    "    def __init__(self,l):  # this is called constructor concept ...bind with class and call pass different data to the different object\n",
    "        self.l1 = l\n",
    "        self.l2 = 56\n",
    "        self.l3 = \"Rupesh\"\n",
    "        self.l4 = 57.78\n",
    "        self.l5 = {'1':2,\"rupes\":\"Daha\"}\n",
    "    \n",
    "    def extractfromindex(self, l , index):\n",
    "        return l[index]\n",
    "    \n",
    "    def extractrangedata(self,l , start, end):\n",
    "        return l[start:end]\n",
    "    \n",
    "    def extracteven(self,l):\n",
    "        l1 = []\n",
    "        for i in l:\n",
    "            if i%2==0:\n",
    "                l1.append(i)\n",
    "        return l1\n",
    "    \n",
    "    def extractodd(self, l):\n",
    "        l1 = []\n",
    "        for i in l:\n",
    "            if i%2 !=0:\n",
    "                l1.append(i)  \n",
    "        return l1\n",
    "                 \n"
   ]
  },
  {
   "cell_type": "code",
   "execution_count": 44,
   "metadata": {},
   "outputs": [],
   "source": [
    "first_objects1 = List_ops([2,3,4,6,10])"
   ]
  },
  {
   "cell_type": "code",
   "execution_count": 46,
   "metadata": {},
   "outputs": [
    {
     "data": {
      "text/plain": [
       "57.78"
      ]
     },
     "execution_count": 46,
     "metadata": {},
     "output_type": "execute_result"
    }
   ],
   "source": [
    "first_objects1.l4"
   ]
  },
  {
   "cell_type": "code",
   "execution_count": 47,
   "metadata": {},
   "outputs": [],
   "source": [
    "class Book:\n",
    "    def __init__(self, name,title,page):\n",
    "        self.name_of_book = name\n",
    "        self.title_of_book = title\n",
    "        self.page_no = page\n",
    "\n",
    "    def extract_details(self):\n",
    "        print(self.name_of_book , self.title_of_book)  # inside the class we can access the variable by the self key world)\n",
    "\n",
    "    def print_page_no(self):\n",
    "        print(self.page_no)         "
   ]
  },
  {
   "cell_type": "code",
   "execution_count": 48,
   "metadata": {},
   "outputs": [],
   "source": [
    "rupesh = Book(\"Dsa\" ,\"Practical Dsa\", 56)\n",
    "rakesh = Book(\"Data Science\" , \"Emplementation of Data Science\" , 78)\n"
   ]
  },
  {
   "cell_type": "code",
   "execution_count": 51,
   "metadata": {},
   "outputs": [
    {
     "name": "stdout",
     "output_type": "stream",
     "text": [
      "Dsa Practical Dsa\n",
      "78\n"
     ]
    }
   ],
   "source": [
    "rupesh.extract_details()\n",
    "rakesh.print_page_no()"
   ]
  },
  {
   "cell_type": "code",
   "execution_count": 52,
   "metadata": {},
   "outputs": [],
   "source": [
    "class Book:\n",
    "    def __init__(self): # __init__ without a parameter\n",
    "        self.name_of_book = \"DSA\"\n",
    "        self.title_of_book = \"Binary search\"\n",
    "        self.page_no = 23\n",
    "\n",
    "    def extract_details(self):\n",
    "        print(self.name_of_book , self.title_of_book)  # inside the class we can access the variable by the self key world)\n",
    "\n",
    "    def print_page_no(self):\n",
    "        print(self.page_no)         "
   ]
  },
  {
   "cell_type": "code",
   "execution_count": 53,
   "metadata": {},
   "outputs": [],
   "source": [
    "rupesh = Book()"
   ]
  },
  {
   "cell_type": "code",
   "execution_count": 54,
   "metadata": {},
   "outputs": [
    {
     "data": {
      "text/plain": [
       "'DSA'"
      ]
     },
     "execution_count": 54,
     "metadata": {},
     "output_type": "execute_result"
    }
   ],
   "source": [
    "rupesh.name_of_book"
   ]
  },
  {
   "cell_type": "code",
   "execution_count": 55,
   "metadata": {},
   "outputs": [
    {
     "name": "stdout",
     "output_type": "stream",
     "text": [
      "23\n"
     ]
    }
   ],
   "source": [
    "rupesh.print_page_no()"
   ]
  },
  {
   "cell_type": "markdown",
   "metadata": {},
   "source": [
    "Email verification by using class and constructor..."
   ]
  },
  {
   "cell_type": "code",
   "execution_count": 57,
   "metadata": {},
   "outputs": [],
   "source": [
    "class Gmail_ops:\n",
    "\n",
    "    def __init__ (self , user_id ,user_password):\n",
    "        self.user_id = user_id\n",
    "        self.user_password = user_password\n",
    "        self.url = \"https://mail.google.com\"\n",
    "\n",
    "    def login(self):\n",
    "        print(\"take user: \"+ self.user_id + \" Take Password : \" + self.user_password + \"hit url : \"+ self.url )\n",
    "\n",
    "    def read_mail(self):\n",
    "        print(\"read mail for \"+self.user_id + \" \"+ self.user_password)\n",
    "\n",
    "    def reply_mail(self):\n",
    "        print(\"read mail for \"+self.user_id + \" \"+ self.user_password)\n",
    "           \n",
    "      "
   ]
  },
  {
   "cell_type": "code",
   "execution_count": 58,
   "metadata": {},
   "outputs": [],
   "source": [
    "user1 = Gmail_ops(\"rupesh@gmail.com\",\"rupesh1234\")\n",
    "user2 = Gmail_ops(\"rakesh45@gmail.com\",\"Rakesh345\")"
   ]
  },
  {
   "cell_type": "code",
   "execution_count": 59,
   "metadata": {},
   "outputs": [
    {
     "name": "stdout",
     "output_type": "stream",
     "text": [
      "read mail for rupesh@gmail.com rupesh1234\n"
     ]
    }
   ],
   "source": [
    "user1.reply_mail()"
   ]
  },
  {
   "cell_type": "code",
   "execution_count": 60,
   "metadata": {},
   "outputs": [
    {
     "name": "stdout",
     "output_type": "stream",
     "text": [
      "take user: rakesh45@gmail.com Take Password : Rakesh345hit url : https://mail.google.com\n"
     ]
    }
   ],
   "source": [
    "user2.login()"
   ]
  },
  {
   "cell_type": "code",
   "execution_count": 64,
   "metadata": {},
   "outputs": [],
   "source": [
    "from functools import reduce\n",
    "class Calculator:\n",
    "\n",
    "    def __init__(self,username):\n",
    "        self.username = username\n",
    "\n",
    "    def addition(self, *args):\n",
    "        return self.username, sum(args)\n",
    "    \n",
    "    def subtraction(self, *args):\n",
    "        return self.username,reduce(lambda a,b:a-b , args)\n",
    "    \n",
    "    def multiplication(self , *args):\n",
    "        return self.username,reduce(lambda a,b : a*b , args)\n",
    "    \n",
    "    def division(self , *args):\n",
    "        return self.username,reduce(lambda a,b : a/b ,args)\n",
    "    \n"
   ]
  },
  {
   "cell_type": "code",
   "execution_count": 66,
   "metadata": {},
   "outputs": [
    {
     "data": {
      "text/plain": [
       "('Rakesh', 20)"
      ]
     },
     "execution_count": 66,
     "metadata": {},
     "output_type": "execute_result"
    }
   ],
   "source": [
    "rupesh = Calculator(\"Rakesh\")\n",
    "rupesh.addition(2,3,4,5,6)"
   ]
  },
  {
   "cell_type": "code",
   "execution_count": 67,
   "metadata": {},
   "outputs": [
    {
     "data": {
      "text/plain": [
       "('Rupesh', 9.0)"
      ]
     },
     "execution_count": 67,
     "metadata": {},
     "output_type": "execute_result"
    }
   ],
   "source": [
    "rakesh = Calculator(\"Rupesh\")\n",
    "rakesh.division(45,5)"
   ]
  },
  {
   "cell_type": "code",
   "execution_count": 72,
   "metadata": {},
   "outputs": [
    {
     "name": "stdout",
     "output_type": "stream",
     "text": [
      "[5, 10, 15, 20, 25, 30, 35, 40, 45, 50]\n"
     ]
    }
   ],
   "source": [
    "def Multiple(num):\n",
    "    return num\n",
    "\n",
    "def Formula(n):\n",
    "    return [n*i for i in range(1,11)]\n",
    "\n",
    "def Multiple_Composite(Multiple,Formula,num):\n",
    "    return Multiple(Formula(num))\n",
    "\n",
    "\n",
    "result = Multiple_Composite(Multiple, Formula,5)\n",
    "print(result)"
   ]
  },
  {
   "cell_type": "markdown",
   "metadata": {},
   "source": []
  },
  {
   "cell_type": "code",
   "execution_count": 77,
   "metadata": {},
   "outputs": [],
   "source": [
    "def multiply(num):\n",
    "    return lambda multiple : num * multiple"
   ]
  },
  {
   "cell_type": "code",
   "execution_count": 1,
   "metadata": {},
   "outputs": [
    {
     "ename": "NameError",
     "evalue": "name 'multiply' is not defined",
     "output_type": "error",
     "traceback": [
      "\u001b[1;31m---------------------------------------------------------------------------\u001b[0m",
      "\u001b[1;31mNameError\u001b[0m                                 Traceback (most recent call last)",
      "Cell \u001b[1;32mIn[1], line 1\u001b[0m\n\u001b[1;32m----> 1\u001b[0m binaryMultiple \u001b[38;5;241m=\u001b[39m \u001b[43mmultiply\u001b[49m(\u001b[38;5;241m2\u001b[39m)\n\u001b[0;32m      3\u001b[0m octaMultiple \u001b[38;5;241m=\u001b[39m multiply(\u001b[38;5;241m8\u001b[39m)\n",
      "\u001b[1;31mNameError\u001b[0m: name 'multiply' is not defined"
     ]
    }
   ],
   "source": [
    "binaryMultiple = multiply(2)\n",
    "\n",
    "octaMultiple = multiply(8)"
   ]
  },
  {
   "cell_type": "code",
   "execution_count": 80,
   "metadata": {},
   "outputs": [
    {
     "name": "stdout",
     "output_type": "stream",
     "text": [
      "4 72\n"
     ]
    }
   ],
   "source": [
    "binary = binaryMultiple(2)\n",
    "octa = octaMultiple(9)\n",
    "\n",
    "print(binary, octa)"
   ]
  },
  {
   "cell_type": "markdown",
   "metadata": {},
   "source": [
    "Car Class:\n",
    "\n",
    "Define a class Car with attributes for make, model, year, and mileage. Implement methods to start the car, drive a certain distance, and display the car's details.\n",
    "How would you represent a fleet of cars using the Car class?"
   ]
  },
  {
   "cell_type": "code",
   "execution_count": 81,
   "metadata": {},
   "outputs": [],
   "source": [
    "class Car:\n",
    "    def __init__(self, make, model, year, mileage = 0):\n",
    "        self.make = make\n",
    "        self.model = model\n",
    "        self.year = year\n",
    "        self.mileage = mileage\n",
    "        self.is_running = False\n",
    "\n",
    "    def start(self):\n",
    "        self.is_running = True\n",
    "        print(f\"{self.make} {self.model} is now running\")\n",
    "\n",
    "    def drive(self, distance):\n",
    "        if self.is_running:\n",
    "            self.mileage +=distance\n",
    "            print(f\"Drove {distance} miles. Total mileage is now {self.mileage}\")\n",
    "\n",
    "\n",
    "        else:\n",
    "            print(\"Start the car first.\")\n",
    "\n",
    "                       \n"
   ]
  },
  {
   "cell_type": "markdown",
   "metadata": {},
   "source": [
    "The `reduce` function in Python is used to apply a specified function cumulatively to the items of an iterable (such as a list), reducing the iterable to a single value. This function is part of the `functools` module, so you need to import it before using it.\n",
    "\n",
    "Here's a basic explanation and example:\n",
    "\n",
    "### Syntax\n",
    "```python\n",
    "functools.reduce(function, iterable[, initializer])\n",
    "```\n",
    "\n",
    "- **function**: A function that takes two arguments and returns a single value.\n",
    "- **iterable**: The iterable whose items are to be reduced.\n",
    "- **initializer** (optional): A value that is placed before the items of the iterable in the calculation, and serves as a default when the iterable is empty.\n",
    "\n",
    "### How It Works\n",
    "1. The `reduce` function applies the `function` to the first two items of the iterable.\n",
    "2. It then applies the `function` to the result of the previous step and the next item in the iterable.\n",
    "3. This process continues until all items in the iterable have been processed, resulting in a single cumulative value.\n",
    "\n",
    "### Example\n",
    "Suppose you want to compute the product of a list of numbers:\n",
    "\n",
    "```python\n",
    "from functools import reduce\n",
    "\n",
    "# Function to multiply two numbers\n",
    "def multiply(x, y):\n",
    "    return x * y\n",
    "\n",
    "# List of numbers\n",
    "numbers = [1, 2, 3, 4, 5]\n",
    "\n",
    "# Use reduce to calculate the product\n",
    "result = reduce(multiply, numbers)\n",
    "\n",
    "print(result)  # Output: 120\n",
    "```\n",
    "\n",
    "### Explanation of the Example\n",
    "1. `reduce` starts by applying `multiply` to the first two elements of the list: `1 * 2 = 2`.\n",
    "2. It then takes the result (`2`) and applies `multiply` to the next element: `2 * 3 = 6`.\n",
    "3. This continues with `6 * 4 = 24` and finally `24 * 5 = 120`.\n",
    "4. The final result is `120`.\n",
    "\n",
    "### Using an Initializer\n",
    "If you provide an initializer, it is used as the first argument in the first call to the `function`:\n",
    "\n",
    "```python\n",
    "result_with_initializer = reduce(multiply, numbers, 10)\n",
    "print(result_with_initializer)  # Output: 1200 (10 * 1 * 2 * 3 * 4 * 5)\n",
    "```\n",
    "\n",
    "In this case, `10` is multiplied by the first element of the list, and the process continues as described above."
   ]
  },
  {
   "cell_type": "code",
   "execution_count": 9,
   "metadata": {},
   "outputs": [
    {
     "name": "stdout",
     "output_type": "stream",
     "text": [
      "1200\n"
     ]
    }
   ],
   "source": [
    "from functools import reduce\n",
    "\n",
    "# List of numbers\n",
    "numbers = [1, 2, 3, 4, 5]\n",
    "\n",
    "# Use reduce with a lambda function and an initializer to calculate the product\n",
    "result_with_initializer = reduce(lambda x, y: x * y, numbers, 10)\n",
    "\n",
    "print(result_with_initializer)  # Output: 1200\n"
   ]
  },
  {
   "cell_type": "code",
   "execution_count": null,
   "metadata": {},
   "outputs": [],
   "source": []
  }
 ],
 "metadata": {
  "kernelspec": {
   "display_name": "Python 3",
   "language": "python",
   "name": "python3"
  },
  "language_info": {
   "codemirror_mode": {
    "name": "ipython",
    "version": 3
   },
   "file_extension": ".py",
   "mimetype": "text/x-python",
   "name": "python",
   "nbconvert_exporter": "python",
   "pygments_lexer": "ipython3",
   "version": "3.11.0"
  }
 },
 "nbformat": 4,
 "nbformat_minor": 2
}
