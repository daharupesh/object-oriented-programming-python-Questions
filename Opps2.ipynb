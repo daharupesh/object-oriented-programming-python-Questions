{
 "cells": [
  {
   "cell_type": "markdown",
   "metadata": {},
   "source": [
    "# Super Method\n",
    "Sure! To provide a super method with an example in Python, we'll use a concept from object-oriented programming called method overriding. The `super()` function in Python is used to call methods from a parent class in a child class.\n",
    "\n",
    "Let’s use the following example:\n",
    "\n",
    "1. **Base Class**: A general class `Shape` with methods to calculate area and perimeter.\n",
    "2. **Derived Class**: A specific class `Rectangle` that inherits from `Shape` and overrides its methods to provide specific calculations for a rectangle.\n",
    "\n",
    "### Example with Super Method\n",
    "\n",
    "```python\n",
    "class Shape:\n",
    "    def __init__(self, length, width=None):\n",
    "        self.length = length\n",
    "        self.width = width\n",
    "\n",
    "    def area(self):\n",
    "        if self.width:\n",
    "            return self.length * self.width\n",
    "        return self.length ** 2  # Assuming square if width is None\n",
    "\n",
    "    def perimeter(self):\n",
    "        if self.width:\n",
    "            return 2 * (self.length + self.width)\n",
    "        return 4 * self.length  # Assuming square if width is None\n",
    "\n",
    "class Rectangle(Shape):\n",
    "    def __init__(self, length, width):\n",
    "        # Initialize the parent class with length and width\n",
    "        super().__init__(length, width)\n",
    "    \n",
    "    def area(self):\n",
    "        # Call the parent class method using super()\n",
    "        return super().area()\n",
    "\n",
    "    def perimeter(self):\n",
    "        # Call the parent class method using super()\n",
    "        return super().perimeter()\n",
    "\n",
    "# Example usage\n",
    "rect = Rectangle(10, 5)\n",
    "print(f\"Rectangle area: {rect.area()}\")         # Output: Rectangle area: 50\n",
    "print(f\"Rectangle perimeter: {rect.perimeter()}\") # Output: Rectangle perimeter: 30\n",
    "```\n",
    "\n",
    "### Explanation\n",
    "\n",
    "1. **Base Class `Shape`**:\n",
    "   - `__init__` initializes the shape with length and optional width.\n",
    "   - `area` and `perimeter` methods are defined to handle shapes generically.\n",
    "\n",
    "2. **Derived Class `Rectangle`**:\n",
    "   - Uses `super().__init__(length, width)` to call the base class constructor and initialize `length` and `width`.\n",
    "   - Overrides `area` and `perimeter` methods but uses `super()` to invoke the parent class methods.\n",
    "\n",
    "In this example, even though `Rectangle` provides its own implementation of `area` and `perimeter`, it calls the base class methods using `super()`. This is useful when you want to extend or modify functionality while still utilizing the base class logic."
   ]
  },
  {
   "cell_type": "code",
   "execution_count": 1,
   "metadata": {},
   "outputs": [],
   "source": [
    "class pwskills:\n",
    "    def __init__(self,mentor):\n",
    "        self.mentor = mentor\n",
    "    def mentor_name(self):\n",
    "        print(self.mentor)\n",
    "\n",
    "class datascience(pwskills):\n",
    "    def __init__(self, mentor, mentor_mail_id):\n",
    "        self.mentor = mentor\n",
    "        self.mentor_mail_id = mentor_mail_id\n",
    "\n",
    "    def show_info(self):\n",
    "        print(self.mentor , self.mentor_mail_id)                \n"
   ]
  },
  {
   "cell_type": "code",
   "execution_count": 4,
   "metadata": {},
   "outputs": [],
   "source": [
    "python_basic = datascience(\"Rupesh \" , \"rupesh21@gmail.com\")"
   ]
  },
  {
   "cell_type": "code",
   "execution_count": 5,
   "metadata": {},
   "outputs": [
    {
     "name": "stdout",
     "output_type": "stream",
     "text": [
      "Rupesh  rupesh21@gmail.com\n"
     ]
    }
   ],
   "source": [
    "python_basic.show_info()"
   ]
  },
  {
   "cell_type": "code",
   "execution_count": 6,
   "metadata": {},
   "outputs": [
    {
     "name": "stdout",
     "output_type": "stream",
     "text": [
      "Rupesh \n"
     ]
    }
   ],
   "source": [
    "python_basic.mentor_name()"
   ]
  },
  {
   "cell_type": "code",
   "execution_count": 29,
   "metadata": {},
   "outputs": [],
   "source": [
    "class pwskills:\n",
    "    def __init__(self,mentor,name):\n",
    "        self.mentor = mentor\n",
    "    \n",
    "    def mentor_name(self):\n",
    "        print(self.mentor)\n",
    "\n",
    "class datascience(pwskills):\n",
    "    def __init__(self, mentor,name, mentor_mail_id):\n",
    "        # self.mentor = mentor\n",
    "        super().__init__(mentor,name) #by using sumber reduce the code...\n",
    "        self.mentor_mail_id = mentor_mail_id\n",
    "\n",
    "    def show_info(self):\n",
    "        super().mentor_name()\n",
    "        print(self.mentor , self.mentor_mail_id)                \n",
    "# with the help of super().. re-initialize the previous class variables...)"
   ]
  },
  {
   "cell_type": "code",
   "execution_count": 30,
   "metadata": {},
   "outputs": [],
   "source": [
    "python_basic = datascience(\"Rupesh \" , \"Daha\", \"rupesh@gmail.com\")"
   ]
  },
  {
   "cell_type": "code",
   "execution_count": 31,
   "metadata": {},
   "outputs": [
    {
     "name": "stdout",
     "output_type": "stream",
     "text": [
      "Rupesh \n",
      "Rupesh  rupesh@gmail.com\n",
      "Rupesh \n"
     ]
    }
   ],
   "source": [
    "python_basic.show_info()\n",
    "python_basic.mentor_name()"
   ]
  },
  {
   "cell_type": "code",
   "execution_count": 36,
   "metadata": {},
   "outputs": [],
   "source": [
    "class human:\n",
    "    def __init__(self):\n",
    "        pass\n",
    "\n",
    "    def eat(self):\n",
    "        print(\"This is human class...eat method\")\n",
    "        "
   ]
  },
  {
   "cell_type": "code",
   "execution_count": 41,
   "metadata": {},
   "outputs": [],
   "source": [
    "class male(human):\n",
    "\n",
    "    def __init__(self,name):\n",
    "        self.name = name\n",
    "    \n",
    "    def eat(self):\n",
    "        super().eat()\n",
    "        print(self.name)"
   ]
  },
  {
   "cell_type": "code",
   "execution_count": 42,
   "metadata": {},
   "outputs": [],
   "source": [
    "rupesh = male(\"RupeshDaha\")"
   ]
  },
  {
   "cell_type": "code",
   "execution_count": 43,
   "metadata": {},
   "outputs": [
    {
     "name": "stdout",
     "output_type": "stream",
     "text": [
      "This is human class...eat method\n",
      "RupeshDaha\n"
     ]
    }
   ],
   "source": [
    "repesh.eat()"
   ]
  },
  {
   "cell_type": "markdown",
   "metadata": {},
   "source": [
    "# Desctructor:\n",
    "\n",
    "In Python, destructors are defined using the `__del__` method. This method is called when an object is about to be destroyed, which happens when the object’s reference count drops to zero. The `__del__` method allows you to define any cleanup steps that need to be taken before the object is actually destroyed, such as closing files or releasing resources.\n",
    "\n",
    "Here’s an example demonstrating how to use the `__del__` method in a class:\n",
    "\n",
    "### Example: Destructor in Python\n",
    "\n",
    "```python\n",
    "class FileHandler:\n",
    "    def __init__(self, filename):\n",
    "        self.filename = filename\n",
    "        self.file = None\n",
    "        try:\n",
    "            self.file = open(filename, 'w')\n",
    "            print(f\"File {self.filename} opened.\")\n",
    "        except Exception as e:\n",
    "            print(f\"Failed to open file {self.filename}: {e}\")\n",
    "\n",
    "    def write_data(self, data):\n",
    "        if self.file:\n",
    "            self.file.write(data)\n",
    "            print(f\"Written data to {self.filename}.\")\n",
    "        else:\n",
    "            print(f\"File {self.filename} is not open.\")\n",
    "\n",
    "    def __del__(self):\n",
    "        if self.file:\n",
    "            self.file.close()\n",
    "            print(f\"File {self.filename} closed.\")\n",
    "\n",
    "# Example usage\n",
    "handler = FileHandler(\"example.txt\")\n",
    "handler.write_data(\"Hello, world!\")\n",
    "del handler  # Explicitly calling destructor\n",
    "\n",
    "# Output:\n",
    "# File example.txt opened.\n",
    "# Written data to example.txt.\n",
    "# File example.txt closed.\n",
    "```\n",
    "\n",
    "### Explanation\n",
    "\n",
    "1. **Constructor (`__init__` method)**:\n",
    "   - Opens a file in write mode and assigns the file object to `self.file`.\n",
    "   - If the file cannot be opened, it handles the exception and prints an error message.\n",
    "\n",
    "2. **Write Data Method (`write_data`)**:\n",
    "   - Writes data to the file if it is open.\n",
    "   - If the file is not open, it prints an error message.\n",
    "\n",
    "3. **Destructor (`__del__` method)**:\n",
    "   - Closes the file if it is open.\n",
    "   - This method is called automatically when the object is about to be destroyed, which can be triggered by using `del` or when the reference count drops to zero.\n",
    "\n",
    "In the example usage, the `FileHandler` object is explicitly deleted using `del handler`, which triggers the `__del__` method and closes the file. This ensures that resources are properly cleaned up, even if the object goes out of scope or is no longer needed."
   ]
  },
  {
   "cell_type": "code",
   "execution_count": 50,
   "metadata": {},
   "outputs": [],
   "source": [
    "class fileopener:\n",
    "    def __init__(self, filename):\n",
    "        self.filename = filename\n",
    "\n",
    "    def open_file(self):\n",
    "        print(\"This will open the file\" , self.filename)\n",
    "\n",
    "    def __del__(self):\n",
    "        # print(\"Close my file\")\n",
    "        self.filename\n",
    "\n",
    "                "
   ]
  },
  {
   "cell_type": "code",
   "execution_count": 51,
   "metadata": {},
   "outputs": [
    {
     "name": "stdout",
     "output_type": "stream",
     "text": [
      "Close my file\n"
     ]
    }
   ],
   "source": [
    "f1 = fileopener(\"f1.txt\")"
   ]
  },
  {
   "cell_type": "code",
   "execution_count": 52,
   "metadata": {},
   "outputs": [
    {
     "name": "stdout",
     "output_type": "stream",
     "text": [
      "This will open the file f1.txt\n"
     ]
    }
   ],
   "source": [
    "f1.open_file()"
   ]
  },
  {
   "cell_type": "code",
   "execution_count": 53,
   "metadata": {},
   "outputs": [
    {
     "name": "stdout",
     "output_type": "stream",
     "text": [
      "This will open the file f1.txt\n"
     ]
    }
   ],
   "source": [
    "f1.open_file()"
   ]
  },
  {
   "cell_type": "code",
   "execution_count": 65,
   "metadata": {},
   "outputs": [],
   "source": [
    "import time\n",
    "class timer:\n",
    "    def __init__(self):\n",
    "        self.start_time = time.time()\n",
    "\n",
    "    def task(self):\n",
    "        actual_time = time.time()-self.start_time\n",
    "        print(actual_time)    \n",
    "\n",
    "    def __del__(self):\n",
    "        print(\"hello\")    \n",
    "    \n",
    "    def __str__(self):\n",
    "        return \"this is my class timer\""
   ]
  },
  {
   "cell_type": "code",
   "execution_count": 66,
   "metadata": {},
   "outputs": [
    {
     "name": "stdout",
     "output_type": "stream",
     "text": [
      "\n"
     ]
    }
   ],
   "source": [
    "t1 = timer()"
   ]
  },
  {
   "cell_type": "code",
   "execution_count": 67,
   "metadata": {},
   "outputs": [
    {
     "name": "stdout",
     "output_type": "stream",
     "text": [
      "0.42931246757507324\n"
     ]
    }
   ],
   "source": [
    "t1.task()"
   ]
  },
  {
   "cell_type": "code",
   "execution_count": 68,
   "metadata": {},
   "outputs": [
    {
     "name": "stdout",
     "output_type": "stream",
     "text": [
      "this is my class timer\n"
     ]
    }
   ],
   "source": [
    "print(t1)"
   ]
  },
  {
   "cell_type": "markdown",
   "metadata": {},
   "source": [
    "# Decorator in python\n",
    "\n",
    "In Python, decorators are a powerful tool that allows you to modify the behavior of a function or a class method. They are often used for logging, access control, instrumentation, caching, and more.\n",
    "\n",
    "A decorator is a function that takes another function and extends its behavior without explicitly modifying it. Decorators are applied using the `@decorator_name` syntax.\n",
    "\n",
    "### Example: Simple Function Decorator\n",
    "\n",
    "Let's create a simple decorator that logs the execution of a function:\n",
    "\n",
    "```python\n",
    "def log_decorator(func):\n",
    "    def wrapper(*args, **kwargs):\n",
    "        print(f\"Calling function '{func.__name__}' with arguments {args} and keyword arguments {kwargs}\")\n",
    "        result = func(*args, **kwargs)\n",
    "        print(f\"Function '{func.__name__}' returned {result}\")\n",
    "        return result\n",
    "    return wrapper\n",
    "\n",
    "# Using the decorator\n",
    "@log_decorator\n",
    "def add(a, b):\n",
    "    return a + b\n",
    "\n",
    "@log_decorator\n",
    "def greet(name):\n",
    "    return f\"Hello, {name}!\"\n",
    "\n",
    "# Example usage\n",
    "result1 = add(2, 3)\n",
    "print(result1)\n",
    "\n",
    "result2 = greet(\"Alice\")\n",
    "print(result2)\n",
    "```\n",
    "\n",
    "### Explanation\n",
    "\n",
    "1. **Decorator Function (`log_decorator`)**:\n",
    "   - Takes a function `func` as an argument.\n",
    "   - Defines an inner function `wrapper` that wraps the original function.\n",
    "   - The `wrapper` function logs the call, executes the original function, logs the result, and returns the result.\n",
    "   - Returns the `wrapper` function.\n",
    "\n",
    "2. **Using the Decorator**:\n",
    "   - The `@log_decorator` syntax is used to apply the decorator to the `add` and `greet` functions.\n",
    "   - When `add` or `greet` is called, the `wrapper` function is executed instead, adding the logging behavior.\n",
    "\n",
    "### Output\n",
    "\n",
    "```\n",
    "Calling function 'add' with arguments (2, 3) and keyword arguments {}\n",
    "Function 'add' returned 5\n",
    "5\n",
    "Calling function 'greet' with arguments ('Alice',) and keyword arguments {}\n",
    "Function 'greet' returned Hello, Alice!\n",
    "Hello, Alice!\n",
    "```\n",
    "\n",
    "### Example: Class Method Decorator\n",
    "\n",
    "Decorators can also be applied to class methods. Here’s an example that checks if the user is authenticated before allowing access to a method:\n",
    "\n",
    "```python\n",
    "def requires_authentication(func):\n",
    "    def wrapper(self, *args, **kwargs):\n",
    "        if not self.is_authenticated:\n",
    "            print(f\"User '{self.username}' is not authenticated.\")\n",
    "            return None\n",
    "        return func(self, *args, **kwargs)\n",
    "    return wrapper\n",
    "\n",
    "class User:\n",
    "    def __init__(self, username, is_authenticated):\n",
    "        self.username = username\n",
    "        self.is_authenticated = is_authenticated\n",
    "\n",
    "    @requires_authentication\n",
    "    def get_profile(self):\n",
    "        return f\"Profile of {self.username}\"\n",
    "\n",
    "# Example usage\n",
    "user1 = User(\"Alice\", True)\n",
    "print(user1.get_profile())  # Should print the profile\n",
    "\n",
    "user2 = User(\"Bob\", False)\n",
    "print(user2.get_profile())  # Should print a message saying the user is not authenticated\n",
    "```\n",
    "\n",
    "### Explanation\n",
    "\n",
    "1. **Decorator Function (`requires_authentication`)**:\n",
    "   - Takes a method `func` as an argument.\n",
    "   - Defines an inner function `wrapper` that checks if the user is authenticated.\n",
    "   - If the user is not authenticated, it prints a message and returns `None`.\n",
    "   - If the user is authenticated, it calls the original method.\n",
    "\n",
    "2. **Class `User`**:\n",
    "   - Has attributes `username` and `is_authenticated`.\n",
    "   - The `get_profile` method is decorated with `@requires_authentication`.\n",
    "\n",
    "3. **Example Usage**:\n",
    "   - Creates `User` objects with different authentication statuses.\n",
    "   - Calls the `get_profile` method to demonstrate the decorator's behavior.\n",
    "\n",
    "### Output\n",
    "\n",
    "```\n",
    "Profile of Alice\n",
    "User 'Bob' is not authenticated.\n",
    "None\n",
    "```\n",
    "\n",
    "Decorators are a versatile feature in Python that allow you to enhance and modify the behavior of functions and methods in a clean and reusable way."
   ]
  },
  {
   "cell_type": "markdown",
   "metadata": {},
   "source": [
    "A decorator is a design pattern in Python that allows a user to add new functionality to an existing object without modifying its structure."
   ]
  },
  {
   "cell_type": "code",
   "execution_count": 1,
   "metadata": {},
   "outputs": [],
   "source": [
    "def test(func):\n",
    "    def inner_function():\n",
    "        print(\"This is the start of the function.\")\n",
    "        func()\n",
    "        print(\"This is the end of the fuctions\")\n",
    "    return inner_function\n",
    "\n",
    "@test\n",
    "def test1():\n",
    "    print(\"This is the test1\")    "
   ]
  },
  {
   "cell_type": "code",
   "execution_count": 4,
   "metadata": {},
   "outputs": [
    {
     "name": "stdout",
     "output_type": "stream",
     "text": [
      "This is the start of the function.\n",
      "This is the test1\n",
      "This is the end of the fuctions\n"
     ]
    }
   ],
   "source": [
    "test1()"
   ]
  },
  {
   "cell_type": "code",
   "execution_count": 11,
   "metadata": {},
   "outputs": [],
   "source": [
    "import time\n",
    "def timeCalculate(func):\n",
    "    def inner_function(*args):\n",
    "        start_time = time.time()\n",
    "        func(*args)\n",
    "        end_time = time.time()\n",
    "        calculate_time = end_time-start_time\n",
    "        print(calculate_time)\n",
    "    return inner_function    "
   ]
  },
  {
   "cell_type": "code",
   "execution_count": 12,
   "metadata": {},
   "outputs": [],
   "source": [
    "@timeCalculate\n",
    "def dict_key(d):\n",
    "    print(d.keys())"
   ]
  },
  {
   "cell_type": "code",
   "execution_count": 13,
   "metadata": {},
   "outputs": [
    {
     "name": "stdout",
     "output_type": "stream",
     "text": [
      "dict_keys(['1', '2'])\n",
      "0.0\n"
     ]
    }
   ],
   "source": [
    "dict_key({\"1\":2,\"2\":2})"
   ]
  },
  {
   "cell_type": "code",
   "execution_count": 14,
   "metadata": {},
   "outputs": [],
   "source": [
    "import logging\n",
    "def log_func(func):\n",
    "    def log_inner(*args):\n",
    "        logging.basicConfig(filename=\"test.log\" , level = logging.INFO) \n",
    "        logging.info(\"This is the start of my func\")\n",
    "        func(*args)\n",
    "        logging.info(\"This is the end of my func\")\n",
    "    return log_inner    "
   ]
  },
  {
   "cell_type": "code",
   "execution_count": 15,
   "metadata": {},
   "outputs": [],
   "source": [
    "@timeCalculate        # in one single function multiple decorator is possible....\n",
    "@log_func\n",
    "def dict_key(d):\n",
    "    print(d.keys())"
   ]
  },
  {
   "cell_type": "code",
   "execution_count": 16,
   "metadata": {},
   "outputs": [
    {
     "name": "stdout",
     "output_type": "stream",
     "text": [
      "dict_keys(['1', '2'])\n",
      "0.01800251007080078\n"
     ]
    }
   ],
   "source": [
    "dict_key({\"1\":2,\"2\":2})"
   ]
  },
  {
   "cell_type": "code",
   "execution_count": 32,
   "metadata": {},
   "outputs": [],
   "source": [
    "class Rupesh:\n",
    "    def __init__(self,subject):\n",
    "        self.__subject = subject\n",
    "        \n"
   ]
  },
  {
   "cell_type": "code",
   "execution_count": 37,
   "metadata": {},
   "outputs": [
    {
     "data": {
      "text/plain": [
       "'Data Science'"
      ]
     },
     "execution_count": 37,
     "metadata": {},
     "output_type": "execute_result"
    }
   ],
   "source": [
    "r1 = Rupesh(\"Data Science\")\n",
    "r1._Rupesh__subject"
   ]
  },
  {
   "cell_type": "code",
   "execution_count": 50,
   "metadata": {},
   "outputs": [],
   "source": [
    "class Rupesh:\n",
    "    def __init__(self,subject):\n",
    "        self.__subject = subject\n",
    "    @property\n",
    "    def subject1(self):\n",
    "        return self.__subject\n",
    "    \n",
    "    @subject1.setter\n",
    "    def subject1(self,subject):\n",
    "        self.__subject = subject\n",
    "\n",
    "    @subject1.getter\n",
    "    def subject1(self):\n",
    "        return self.__subject    \n",
    "\n",
    "\n",
    "        \n"
   ]
  },
  {
   "cell_type": "code",
   "execution_count": 51,
   "metadata": {},
   "outputs": [],
   "source": [
    "r1 = Rupesh(\"Data Science\")"
   ]
  },
  {
   "cell_type": "code",
   "execution_count": 53,
   "metadata": {},
   "outputs": [],
   "source": [
    "r1.subject1=\"Dsa\""
   ]
  },
  {
   "cell_type": "code",
   "execution_count": 54,
   "metadata": {},
   "outputs": [
    {
     "data": {
      "text/plain": [
       "'Dsa'"
      ]
     },
     "execution_count": 54,
     "metadata": {},
     "output_type": "execute_result"
    }
   ],
   "source": [
    "r1.subject1"
   ]
  },
  {
   "cell_type": "code",
   "execution_count": null,
   "metadata": {},
   "outputs": [],
   "source": []
  },
  {
   "cell_type": "code",
   "execution_count": null,
   "metadata": {},
   "outputs": [],
   "source": []
  }
 ],
 "metadata": {
  "kernelspec": {
   "display_name": "Python 3",
   "language": "python",
   "name": "python3"
  },
  "language_info": {
   "codemirror_mode": {
    "name": "ipython",
    "version": 3
   },
   "file_extension": ".py",
   "mimetype": "text/x-python",
   "name": "python",
   "nbconvert_exporter": "python",
   "pygments_lexer": "ipython3",
   "version": "3.11.0"
  }
 },
 "nbformat": 4,
 "nbformat_minor": 2
}
