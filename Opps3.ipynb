{
 "cells": [
  {
   "cell_type": "markdown",
   "metadata": {},
   "source": [
    "# Polymorphism"
   ]
  },
  {
   "cell_type": "markdown",
   "metadata": {},
   "source": [
    "### Polymorphism in Python\n",
    "\n",
    "**Polymorphism** is one of the core concepts of object-oriented programming (OOP) and it refers to the ability of different objects to respond to the same method or operation in different ways. The term \"polymorphism\" is derived from the Greek words \"poly\" (meaning many) and \"morph\" (meaning forms), so it means \"many forms\".\n",
    "\n",
    "In Python, polymorphism allows for methods to be used interchangeably between different classes, even if they are not related by inheritance, as long as they share the same method names and signatures.\n",
    "\n",
    "#### Types of Polymorphism\n",
    "\n",
    "1. **Method Overriding (Run-time Polymorphism)**: When a subclass provides a specific implementation of a method that is already defined in its superclass.\n",
    "2. **Method Overloading (Compile-time Polymorphism)**: While Python does not support traditional method overloading like some other languages, it can achieve similar functionality using default or variable-length arguments.\n",
    "\n",
    "#### Examples of Polymorphism\n",
    "\n",
    "**1. Method Overriding Example:**\n",
    "```python\n",
    "class Animal:\n",
    "    def sound(self):\n",
    "        print(\"Animal makes a sound\")\n",
    "\n",
    "class Dog(Animal):\n",
    "    def sound(self):\n",
    "        print(\"Dog barks\")\n",
    "\n",
    "class Cat(Animal):\n",
    "    def sound(self):\n",
    "        print(\"Cat meows\")\n",
    "\n",
    "# Usage\n",
    "animals = [Dog(), Cat()]\n",
    "\n",
    "for animal in animals:\n",
    "    animal.sound()  # Calls the overridden method\n",
    "```\n",
    "\n",
    "In this example, the `sound` method is defined in the `Animal` class and overridden in the `Dog` and `Cat` subclasses. When the `sound` method is called on an instance of `Dog` or `Cat`, the respective overridden method is executed.\n",
    "\n",
    "**2. Method Overloading-like Behavior:**\n",
    "```python\n",
    "class MathOperations:\n",
    "    def add(self, a, b, c=0):\n",
    "        return a + b + c\n",
    "\n",
    "# Usage\n",
    "math_op = MathOperations()\n",
    "print(math_op.add(2, 3))       # Output: 5\n",
    "print(math_op.add(2, 3, 4))    # Output: 9\n",
    "```\n",
    "\n",
    "In this example, the `add` method can accept two or three arguments, achieving a form of method overloading using default arguments.\n",
    "\n",
    "**3. Polymorphism with Functions and Objects:**\n",
    "```python\n",
    "class Dog:\n",
    "    def speak(self):\n",
    "        return \"Woof\"\n",
    "\n",
    "class Cat:\n",
    "    def speak(self):\n",
    "        return \"Meow\"\n",
    "\n",
    "def animal_sound(animal):\n",
    "    print(animal.speak())\n",
    "\n",
    "# Usage\n",
    "dog = Dog()\n",
    "cat = Cat()\n",
    "\n",
    "animal_sound(dog)  # Output: Woof\n",
    "animal_sound(cat)  # Output: Meow\n",
    "```\n",
    "\n",
    "In this example, the `animal_sound` function can accept any object that has a `speak` method. This demonstrates polymorphism as different objects respond to the `speak` method call in their own way.\n",
    "\n",
    "### Benefits of Polymorphism\n",
    "\n",
    "- **Flexibility and Extensibility**: You can introduce new classes with similar interfaces without modifying existing code.\n",
    "- **Code Reusability**: Polymorphism promotes code reusability by allowing the same interface to be used for different underlying forms (data types).\n",
    "- **Simplified Code Maintenance**: It simplifies the maintenance of code by reducing code duplication and promoting a clear and consistent interface.\n",
    "\n",
    "Polymorphism is essential in designing systems that are easy to extend and maintain, making it a fundamental principle in object-oriented programming."
   ]
  },
  {
   "cell_type": "code",
   "execution_count": 1,
   "metadata": {},
   "outputs": [],
   "source": [
    "def test(a,b):\n",
    "    return a+b"
   ]
  },
  {
   "cell_type": "code",
   "execution_count": 2,
   "metadata": {},
   "outputs": [
    {
     "data": {
      "text/plain": [
       "3"
      ]
     },
     "execution_count": 2,
     "metadata": {},
     "output_type": "execute_result"
    }
   ],
   "source": [
    "test(1,2)"
   ]
  },
  {
   "cell_type": "code",
   "execution_count": 3,
   "metadata": {},
   "outputs": [
    {
     "data": {
      "text/plain": [
       "'12'"
      ]
     },
     "execution_count": 3,
     "metadata": {},
     "output_type": "execute_result"
    }
   ],
   "source": [
    "test(\"1\",\"2\")"
   ]
  },
  {
   "cell_type": "code",
   "execution_count": 4,
   "metadata": {},
   "outputs": [],
   "source": [
    "# achieving polimorphism with the help of method overriding\n",
    "class pwskills:\n",
    "    def student(self):\n",
    "        pass\n",
    "class datascience(pwskills):\n",
    "    def student(self):\n",
    "        print(\"this is the student of data science\")\n",
    "\n",
    "class bigdata(pwskills):\n",
    "    def student(self):\n",
    "        print(\"This is the student of big data\")\n"
   ]
  },
  {
   "cell_type": "code",
   "execution_count": 8,
   "metadata": {},
   "outputs": [],
   "source": [
    "yash = datascience()\n",
    "yash = bigdata()"
   ]
  },
  {
   "cell_type": "code",
   "execution_count": 9,
   "metadata": {},
   "outputs": [
    {
     "name": "stdout",
     "output_type": "stream",
     "text": [
      "This is the student of big data\n"
     ]
    }
   ],
   "source": [
    "yash.student()"
   ]
  },
  {
   "cell_type": "code",
   "execution_count": 10,
   "metadata": {},
   "outputs": [
    {
     "name": "stdout",
     "output_type": "stream",
     "text": [
      "This is the student of big data\n"
     ]
    }
   ],
   "source": [
    "yash.student()"
   ]
  },
  {
   "cell_type": "markdown",
   "metadata": {},
   "source": [
    "Achieving polymorphism with the help of method overloading."
   ]
  },
  {
   "cell_type": "code",
   "execution_count": 14,
   "metadata": {},
   "outputs": [],
   "source": [
    "class mathoperation:\n",
    "    def add(self,a=0,b=0,c=0):\n",
    "        return (a+b+c)\n",
    "    \n"
   ]
  },
  {
   "cell_type": "code",
   "execution_count": 19,
   "metadata": {},
   "outputs": [],
   "source": [
    "m1 = mathoperation()"
   ]
  },
  {
   "cell_type": "code",
   "execution_count": 20,
   "metadata": {},
   "outputs": [
    {
     "data": {
      "text/plain": [
       "0"
      ]
     },
     "execution_count": 20,
     "metadata": {},
     "output_type": "execute_result"
    }
   ],
   "source": [
    "m1.add()\n"
   ]
  },
  {
   "cell_type": "code",
   "execution_count": 21,
   "metadata": {},
   "outputs": [
    {
     "data": {
      "text/plain": [
       "1"
      ]
     },
     "execution_count": 21,
     "metadata": {},
     "output_type": "execute_result"
    }
   ],
   "source": [
    "m1.add(1)\n"
   ]
  },
  {
   "cell_type": "code",
   "execution_count": 22,
   "metadata": {},
   "outputs": [
    {
     "data": {
      "text/plain": [
       "3"
      ]
     },
     "execution_count": 22,
     "metadata": {},
     "output_type": "execute_result"
    }
   ],
   "source": [
    "m1.add(1,2)\n"
   ]
  },
  {
   "cell_type": "code",
   "execution_count": 23,
   "metadata": {},
   "outputs": [
    {
     "data": {
      "text/plain": [
       "6"
      ]
     },
     "execution_count": 23,
     "metadata": {},
     "output_type": "execute_result"
    }
   ],
   "source": [
    "m1.add(1,2,3)"
   ]
  },
  {
   "cell_type": "code",
   "execution_count": 25,
   "metadata": {},
   "outputs": [],
   "source": [
    "# other examples:\n",
    "\n",
    "class bigdata:\n",
    "    def __init__(self,number_of_class , number_of_student):\n",
    "        self.number_of_class = number_of_class\n",
    "        self.number_of_student = number_of_student\n",
    "\n",
    "    def __add__(self,other):\n",
    "        return bigdata(self.number_of_class+other.number_of_class , self.number_of_student + other.number_of_student)    \n",
    "          "
   ]
  },
  {
   "cell_type": "code",
   "execution_count": 29,
   "metadata": {},
   "outputs": [
    {
     "name": "stdout",
     "output_type": "stream",
     "text": [
      "7 10\n"
     ]
    }
   ],
   "source": [
    "c1 = bigdata(1,2)\n",
    "c2 = bigdata(2,3)\n",
    "c3 = bigdata(4,5)\n",
    "result = c1 + c2 + c3\n",
    "print(result.number_of_class , result.number_of_student)"
   ]
  },
  {
   "cell_type": "markdown",
   "metadata": {},
   "source": [
    "# achieving polymorphism by doctyping.."
   ]
  },
  {
   "cell_type": "code",
   "execution_count": 30,
   "metadata": {},
   "outputs": [],
   "source": [
    "class datascience:\n",
    "    def student(self):\n",
    "        print(\"This will give the details about data Science Student.\")\n",
    "\n",
    "class bigdata:\n",
    "    def student(self):\n",
    "        print(\"This will give the details about big data class\")\n",
    "\n",
    "def output_class(class_obj):\n",
    "    return class_obj.student()        \n"
   ]
  },
  {
   "cell_type": "code",
   "execution_count": 32,
   "metadata": {},
   "outputs": [],
   "source": [
    "rupesh = datascience()\n",
    "rahul = bigdata()"
   ]
  },
  {
   "cell_type": "code",
   "execution_count": 33,
   "metadata": {},
   "outputs": [
    {
     "name": "stdout",
     "output_type": "stream",
     "text": [
      "This will give the details about data Science Student.\n"
     ]
    }
   ],
   "source": [
    "output_class(rupesh)"
   ]
  },
  {
   "cell_type": "code",
   "execution_count": 34,
   "metadata": {},
   "outputs": [
    {
     "name": "stdout",
     "output_type": "stream",
     "text": [
      "This will give the details about big data class\n"
     ]
    }
   ],
   "source": [
    "output_class(rahul)"
   ]
  },
  {
   "cell_type": "markdown",
   "metadata": {},
   "source": [
    "# Encapsulation\n",
    "\n",
    "### Encapsulation in Python\n",
    "\n",
    "**Encapsulation** is one of the fundamental principles of object-oriented programming (OOP). It refers to the bundling of data (attributes) and methods (functions) that operate on that data within a single unit or class. Encapsulation also involves restricting direct access to some of an object's components, which is a means of preventing accidental interference and misuse of the methods and data. This is achieved through access control, typically using public, protected, and private access modifiers.\n",
    "\n",
    "### Key Principles of Encapsulation\n",
    "\n",
    "1. **Data Hiding**: Preventing external code from directly accessing an object's internal data.\n",
    "2. **Access Control**: Providing controlled access to an object's data and methods.\n",
    "\n",
    "### Access Modifiers in Python\n",
    "\n",
    "- **Public**: Accessible from anywhere. In Python, all members are public by default.\n",
    "- **Protected**: Accessible within the class and its subclasses. In Python, it is indicated by a single underscore prefix (`_`).\n",
    "- **Private**: Accessible only within the class itself. In Python, it is indicated by a double underscore prefix (`__`).\n",
    "\n",
    "### Example of Encapsulation in Python\n",
    "\n",
    "**Creating a class with encapsulation:**\n",
    "\n",
    "```python\n",
    "class Person:\n",
    "    def __init__(self, name, age):\n",
    "        self.__name = name  # Private attribute\n",
    "        self.__age = age    # Private attribute\n",
    "\n",
    "    # Getter method for name\n",
    "    def get_name(self):\n",
    "        return self.__name\n",
    "\n",
    "    # Setter method for name\n",
    "    def set_name(self, name):\n",
    "        self.__name = name\n",
    "\n",
    "    # Getter method for age\n",
    "    def get_age(self):\n",
    "        return self.__age\n",
    "\n",
    "    # Setter method for age\n",
    "    def set_age(self, age):\n",
    "        if age > 0:\n",
    "            self.__age = age\n",
    "        else:\n",
    "            print(\"Age must be positive\")\n",
    "\n",
    "# Creating an instance of the Person class\n",
    "person = Person(\"John\", 30)\n",
    "\n",
    "# Accessing the private attributes through getter methods\n",
    "print(person.get_name())  # Output: John\n",
    "print(person.get_age())   # Output: 30\n",
    "\n",
    "# Modifying the private attributes through setter methods\n",
    "person.set_name(\"Alice\")\n",
    "person.set_age(25)\n",
    "\n",
    "print(person.get_name())  # Output: Alice\n",
    "print(person.get_age())   # Output: 25\n",
    "\n",
    "# Attempting to access the private attributes directly will result in an error\n",
    "# print(person.__name)  # AttributeError\n",
    "# print(person.__age)   # AttributeError\n",
    "```\n",
    "\n",
    "In this example, the `Person` class has private attributes `__name` and `__age`, which cannot be accessed directly from outside the class. Instead, we use getter and setter methods to access and modify these attributes, ensuring controlled access and data integrity.\n",
    "\n",
    "### Advantages of Encapsulation\n",
    "\n",
    "1. **Improved Maintainability**: Changes to the internal implementation of a class do not affect code that uses the class.\n",
    "2. **Enhanced Security**: Sensitive data is hidden from external access and manipulation.\n",
    "3. **Flexibility and Modularity**: Encapsulated code can be more easily reused and modified without affecting other parts of the program.\n",
    "\n",
    "### Summary\n",
    "\n",
    "Encapsulation is a core concept of OOP that ensures controlled access to an object's data and methods. By using access modifiers and defining getter and setter methods, you can achieve data hiding and protect the integrity of the object's state."
   ]
  },
  {
   "cell_type": "code",
   "execution_count": 40,
   "metadata": {},
   "outputs": [],
   "source": [
    "class test:\n",
    "    def __init__(self):\n",
    "        self._x = \"sudh\"\n",
    "        self.y = \"kumar\"\n",
    "        self.z = \"pwskills\"\n",
    "\n",
    "    def __test_meth(self):\n",
    "        return \"this is just a test\"\n",
    "    \n",
    "    def access_var(self):\n",
    "        return self._x\n",
    "    \n",
    "    def update_var(self,data):\n",
    "        self._x = data\n",
    "\n",
    "    def access_method(self):\n",
    "\n",
    "        return self.__test_meth() \n",
    "     \n"
   ]
  },
  {
   "cell_type": "code",
   "execution_count": 41,
   "metadata": {},
   "outputs": [],
   "source": [
    "t1 = test()\n"
   ]
  },
  {
   "cell_type": "code",
   "execution_count": 42,
   "metadata": {},
   "outputs": [
    {
     "data": {
      "text/plain": [
       "'sudh'"
      ]
     },
     "execution_count": 42,
     "metadata": {},
     "output_type": "execute_result"
    }
   ],
   "source": [
    "t1.access_var()"
   ]
  },
  {
   "cell_type": "code",
   "execution_count": 43,
   "metadata": {},
   "outputs": [],
   "source": [
    "t1.update_var(1234)"
   ]
  },
  {
   "cell_type": "code",
   "execution_count": 44,
   "metadata": {},
   "outputs": [
    {
     "data": {
      "text/plain": [
       "1234"
      ]
     },
     "execution_count": 44,
     "metadata": {},
     "output_type": "execute_result"
    }
   ],
   "source": [
    "t1.access_var()"
   ]
  },
  {
   "cell_type": "code",
   "execution_count": 45,
   "metadata": {},
   "outputs": [
    {
     "data": {
      "text/plain": [
       "'this is just a test'"
      ]
     },
     "execution_count": 45,
     "metadata": {},
     "output_type": "execute_result"
    }
   ],
   "source": [
    "t1.access_method()"
   ]
  },
  {
   "cell_type": "code",
   "execution_count": 53,
   "metadata": {},
   "outputs": [],
   "source": [
    "class bank:\n",
    "    def __init__(self,account_number , balance):\n",
    "        self.account_number = account_number\n",
    "        self.balance = balance\n",
    "\n",
    "    def check_balance(self,password):\n",
    "        if password == \"rupesh\":\n",
    "            return self.balance\n",
    "\n",
    "        else:\n",
    "            return \"incorrect password\"    "
   ]
  },
  {
   "cell_type": "code",
   "execution_count": 54,
   "metadata": {},
   "outputs": [],
   "source": [
    "b1 = bank(\"12345\",250000)"
   ]
  },
  {
   "cell_type": "code",
   "execution_count": 56,
   "metadata": {},
   "outputs": [
    {
     "data": {
      "text/plain": [
       "'incorrect password'"
      ]
     },
     "execution_count": 56,
     "metadata": {},
     "output_type": "execute_result"
    }
   ],
   "source": [
    "b1.check_balance(\"rupesh1\")"
   ]
  },
  {
   "cell_type": "code",
   "execution_count": 65,
   "metadata": {},
   "outputs": [],
   "source": [
    "class Queue:\n",
    "    def __init__(self):\n",
    "        self._queue = []\n",
    "\n",
    "    def enqueue(self,data):\n",
    "        self._queue.append(data)\n",
    "\n",
    "    def dequeue(self):\n",
    "\n",
    "        if self._queue:\n",
    "            return self._queue.pop(0)\n",
    "        \n",
    "        else:\n",
    "            return \"The queue is empty\"\n",
    "\n",
    "    def show_queue(self):\n",
    "        return self._queue              "
   ]
  },
  {
   "cell_type": "code",
   "execution_count": 66,
   "metadata": {},
   "outputs": [],
   "source": [
    "q1 = Queue()"
   ]
  },
  {
   "cell_type": "code",
   "execution_count": 67,
   "metadata": {},
   "outputs": [],
   "source": [
    "q1.enqueue(34)"
   ]
  },
  {
   "cell_type": "code",
   "execution_count": 68,
   "metadata": {},
   "outputs": [
    {
     "data": {
      "text/plain": [
       "[34]"
      ]
     },
     "execution_count": 68,
     "metadata": {},
     "output_type": "execute_result"
    }
   ],
   "source": [
    "q1.show_queue()"
   ]
  },
  {
   "cell_type": "code",
   "execution_count": 69,
   "metadata": {},
   "outputs": [],
   "source": [
    "q1.enqueue(45)"
   ]
  },
  {
   "cell_type": "code",
   "execution_count": 70,
   "metadata": {},
   "outputs": [
    {
     "data": {
      "text/plain": [
       "[34, 45]"
      ]
     },
     "execution_count": 70,
     "metadata": {},
     "output_type": "execute_result"
    }
   ],
   "source": [
    "q1.show_queue()"
   ]
  },
  {
   "cell_type": "code",
   "execution_count": 71,
   "metadata": {},
   "outputs": [
    {
     "data": {
      "text/plain": [
       "34"
      ]
     },
     "execution_count": 71,
     "metadata": {},
     "output_type": "execute_result"
    }
   ],
   "source": [
    "q1.dequeue()"
   ]
  },
  {
   "cell_type": "code",
   "execution_count": 72,
   "metadata": {},
   "outputs": [
    {
     "data": {
      "text/plain": [
       "[45]"
      ]
     },
     "execution_count": 72,
     "metadata": {},
     "output_type": "execute_result"
    }
   ],
   "source": [
    "q1.show_queue()"
   ]
  },
  {
   "cell_type": "markdown",
   "metadata": {},
   "source": [
    "# Abstraction"
   ]
  },
  {
   "cell_type": "markdown",
   "metadata": {},
   "source": [
    "Abstraction means creating the skeleton"
   ]
  },
  {
   "cell_type": "markdown",
   "metadata": {},
   "source": [
    "- Writing convension in abstraction"
   ]
  },
  {
   "cell_type": "code",
   "execution_count": 98,
   "metadata": {},
   "outputs": [],
   "source": [
    "from abc import ABC , abstractmethod\n",
    "class PwSkills(ABC):\n",
    "    \n",
    "    @abstractmethod\n",
    "    def dataBaseConnect(self):\n",
    "        pass\n",
    "    @abstractmethod\n",
    "    def checkUserEnrollment(self, user_mailId):\n",
    "        pass\n",
    "    @abstractmethod\n",
    "    def check_completed_lecture(self, user_id , class_id):\n",
    "        pass\n",
    "    @abstractmethod\n",
    "    def check_lab_user(self, user_id):\n",
    "        pass\n",
    "    @abstractmethod\n",
    "    def check_internship(self,user_id):\n",
    "        pass\n"
   ]
  },
  {
   "cell_type": "code",
   "execution_count": 99,
   "metadata": {},
   "outputs": [],
   "source": [
    "class DataBaseConnect(PwSkills):\n",
    "    def dataBaseConnect(self):\n",
    "        print(\"this is a implementation of database connect\")\n",
    "    \n",
    "    def checkUserEnrollment(self, user_mailId):\n",
    "        return \"test\"\n",
    "    \n",
    "    def check_completed_lecture(self, user_id , class_id):\n",
    "        return \"test\"\n",
    "    \n",
    "    def check_lab_user(self, user_id):\n",
    "        return \"test\"\n",
    "    \n",
    "    def check_internship(self,user_id):\n",
    "        return \"test\""
   ]
  },
  {
   "cell_type": "code",
   "execution_count": 101,
   "metadata": {},
   "outputs": [
    {
     "name": "stdout",
     "output_type": "stream",
     "text": [
      "this is a implementation of database connect\n"
     ]
    }
   ],
   "source": [
    "d1 = DataBaseConnect()\n",
    "d1.dataBaseConnect()"
   ]
  },
  {
   "cell_type": "code",
   "execution_count": 102,
   "metadata": {},
   "outputs": [],
   "source": [
    "class Calculation:\n",
    "    @staticmethod\n",
    "    def add(x,y):\n",
    "        return x+y\n",
    "    @staticmethod\n",
    "    def sub(x,y):\n",
    "        return x-y\n",
    "\n",
    "    def div(self,x,y):\n",
    "        return x/y        "
   ]
  },
  {
   "cell_type": "code",
   "execution_count": 104,
   "metadata": {},
   "outputs": [],
   "source": [
    "class Operation(Calculation):\n",
    "    pass\n",
    "    "
   ]
  },
  {
   "cell_type": "code",
   "execution_count": 107,
   "metadata": {},
   "outputs": [],
   "source": [
    "c1 = Operation()"
   ]
  },
  {
   "cell_type": "code",
   "execution_count": 108,
   "metadata": {},
   "outputs": [
    {
     "data": {
      "text/plain": [
       "9"
      ]
     },
     "execution_count": 108,
     "metadata": {},
     "output_type": "execute_result"
    }
   ],
   "source": [
    "c1.add(4,5)"
   ]
  },
  {
   "cell_type": "code",
   "execution_count": 109,
   "metadata": {},
   "outputs": [
    {
     "data": {
      "text/plain": [
       "5"
      ]
     },
     "execution_count": 109,
     "metadata": {},
     "output_type": "execute_result"
    }
   ],
   "source": [
    "c1.sub(10,5)"
   ]
  },
  {
   "cell_type": "code",
   "execution_count": 110,
   "metadata": {},
   "outputs": [
    {
     "data": {
      "text/plain": [
       "0.5555555555555556"
      ]
     },
     "execution_count": 110,
     "metadata": {},
     "output_type": "execute_result"
    }
   ],
   "source": [
    "c1.div(5,9)"
   ]
  },
  {
   "cell_type": "code",
   "execution_count": 117,
   "metadata": {},
   "outputs": [],
   "source": [
    "class file_ops:\n",
    "    def __init__(self, filename):\n",
    "        self.filename = filename\n",
    "\n",
    "    def read_file(self):\n",
    "        with open(self.filename, 'r') as file:\n",
    "            return file.read()\n",
    "\n",
    "    def write_file(self,data):\n",
    "        with open(self.filename, 'w') as file:\n",
    "            file.write(data) \n",
    "            print(\"file successfully written\")       "
   ]
  },
  {
   "cell_type": "code",
   "execution_count": 118,
   "metadata": {},
   "outputs": [],
   "source": [
    "rupesh = file_ops(\"rupesh.txt\")"
   ]
  },
  {
   "cell_type": "code",
   "execution_count": 119,
   "metadata": {},
   "outputs": [
    {
     "name": "stdout",
     "output_type": "stream",
     "text": [
      "file successfully written\n"
     ]
    }
   ],
   "source": [
    "rupesh.write_file(\"Hello, My name is Rupesh kumar Daha\")"
   ]
  },
  {
   "cell_type": "code",
   "execution_count": 120,
   "metadata": {},
   "outputs": [
    {
     "data": {
      "text/plain": [
       "'Hello, My name is Rupesh kumar Daha'"
      ]
     },
     "execution_count": 120,
     "metadata": {},
     "output_type": "execute_result"
    }
   ],
   "source": [
    "rupesh.read_file()"
   ]
  },
  {
   "cell_type": "markdown",
   "metadata": {},
   "source": [
    "# Composition"
   ]
  },
  {
   "cell_type": "markdown",
   "metadata": {},
   "source": [
    "In Python, composition is a concept where a class is composed of one or more objects of other classes. This allows for a complex functionality to be built by combining simple, reusable components. It's a way to achieve a \"has-a\" relationship, in contrast to inheritance which is used for an \"is-a\" relationship.\n",
    "\n",
    "Here's an example to illustrate composition in Python:\n",
    "\n",
    "### Example 1: A `Car` class composed of `Engine` and `Wheel` classes\n",
    "\n",
    "```python\n",
    "class Engine:\n",
    "    def __init__(self, horsepower):\n",
    "        self.horsepower = horsepower\n",
    "    \n",
    "    def start(self):\n",
    "        return \"Engine starts with {} horsepower.\".format(self.horsepower)\n",
    "\n",
    "class Wheel:\n",
    "    def __init__(self, size):\n",
    "        self.size = size\n",
    "    \n",
    "    def rotate(self):\n",
    "        return \"Wheel of size {} inches is rotating.\".format(self.size)\n",
    "\n",
    "class Car:\n",
    "    def __init__(self, make, model, horsepower, wheel_size):\n",
    "        self.make = make\n",
    "        self.model = model\n",
    "        self.engine = Engine(horsepower)\n",
    "        self.wheels = [Wheel(wheel_size) for _ in range(4)]\n",
    "    \n",
    "    def drive(self):\n",
    "        engine_status = self.engine.start()\n",
    "        wheels_status = [wheel.rotate() for wheel in self.wheels]\n",
    "        return \"{} {} is driving.\\n{}\\n{}\".format(self.make, self.model, engine_status, \"\\n\".join(wheels_status))\n",
    "\n",
    "# Create a car object\n",
    "my_car = Car(\"Toyota\", \"Camry\", 268, 16)\n",
    "\n",
    "# Drive the car\n",
    "print(my_car.drive())\n",
    "```\n",
    "\n",
    "### Example 2: A `Library` class composed of `Book` classes\n",
    "\n",
    "```python\n",
    "class Book:\n",
    "    def __init__(self, title, author):\n",
    "        self.title = title\n",
    "        self.author = author\n",
    "    \n",
    "    def get_info(self):\n",
    "        return \"Book: {} by {}\".format(self.title, self.author)\n",
    "\n",
    "class Library:\n",
    "    def __init__(self):\n",
    "        self.books = []\n",
    "    \n",
    "    def add_book(self, book):\n",
    "        self.books.append(book)\n",
    "    \n",
    "    def list_books(self):\n",
    "        return \"\\n\".join([book.get_info() for book in self.books])\n",
    "\n",
    "# Create some book objects\n",
    "book1 = Book(\"1984\", \"George Orwell\")\n",
    "book2 = Book(\"To Kill a Mockingbird\", \"Harper Lee\")\n",
    "\n",
    "# Create a library object\n",
    "my_library = Library()\n",
    "\n",
    "# Add books to the library\n",
    "my_library.add_book(book1)\n",
    "my_library.add_book(book2)\n",
    "\n",
    "# List all books in the library\n",
    "print(my_library.list_books())\n",
    "```\n",
    "\n",
    "In these examples, the `Car` class is composed of `Engine` and `Wheel` classes, while the `Library` class is composed of `Book` classes. Composition allows for the construction of complex objects by combining simpler objects, promoting code reuse and flexibility."
   ]
  },
  {
   "cell_type": "code",
   "execution_count": 121,
   "metadata": {},
   "outputs": [],
   "source": [
    "class PwSkills:\n",
    "    def student(self):\n",
    "        return \"student details\"\n",
    "\n",
    "class DataScience:\n",
    "    def __init__(self):\n",
    "        self.student = PwSkills()        "
   ]
  },
  {
   "cell_type": "code",
   "execution_count": 122,
   "metadata": {},
   "outputs": [],
   "source": [
    "c1 = DataScience()"
   ]
  },
  {
   "cell_type": "code",
   "execution_count": 124,
   "metadata": {},
   "outputs": [
    {
     "data": {
      "text/plain": [
       "'student details'"
      ]
     },
     "execution_count": 124,
     "metadata": {},
     "output_type": "execute_result"
    }
   ],
   "source": [
    "c1.student.student()"
   ]
  },
  {
   "cell_type": "code",
   "execution_count": 131,
   "metadata": {},
   "outputs": [],
   "source": [
    "class Data:\n",
    "    def __init__(self,mentor_name):\n",
    "        self.mentor_name = mentor_name\n",
    "\n",
    "class WebDev:\n",
    "    def __init__(self,mentor,lecture_name):\n",
    "        self.mentor = mentor\n",
    "        self.lecture_name = lecture_name            "
   ]
  },
  {
   "cell_type": "code",
   "execution_count": 132,
   "metadata": {},
   "outputs": [],
   "source": [
    "d = Data(\"rahul\")\n",
    "w = WebDev(d , \"DsA\")"
   ]
  },
  {
   "cell_type": "code",
   "execution_count": 134,
   "metadata": {},
   "outputs": [
    {
     "data": {
      "text/plain": [
       "'rahul'"
      ]
     },
     "execution_count": 134,
     "metadata": {},
     "output_type": "execute_result"
    }
   ],
   "source": [
    "w.mentor.mentor_name"
   ]
  },
  {
   "cell_type": "code",
   "execution_count": 135,
   "metadata": {},
   "outputs": [],
   "source": [
    "l = (2,3,4,6)\n",
    "l2 =  [4,6,7,8,9,34]\n",
    "l3 = [\"rupesh\" ,\"Rahul\" ,\"Rakesh\"]"
   ]
  },
  {
   "cell_type": "code",
   "execution_count": 139,
   "metadata": {},
   "outputs": [
    {
     "data": {
      "text/plain": [
       "[(2, 4, 'rupesh'), (3, 6, 'Rahul'), (4, 7, 'Rakesh')]"
      ]
     },
     "execution_count": 139,
     "metadata": {},
     "output_type": "execute_result"
    }
   ],
   "source": [
    "list(zip(l,l2,l3))"
   ]
  },
  {
   "cell_type": "code",
   "execution_count": 140,
   "metadata": {},
   "outputs": [
    {
     "data": {
      "text/plain": [
       "['rupesh', 'Rahul', 'Rakesh']"
      ]
     },
     "execution_count": 140,
     "metadata": {},
     "output_type": "execute_result"
    }
   ],
   "source": [
    "l3"
   ]
  },
  {
   "cell_type": "code",
   "execution_count": 141,
   "metadata": {},
   "outputs": [
    {
     "name": "stdout",
     "output_type": "stream",
     "text": [
      "0 rupesh\n",
      "1 Rahul\n",
      "2 Rakesh\n"
     ]
    }
   ],
   "source": [
    "for index,data in enumerate(l3):\n",
    "    print(index, data)"
   ]
  },
  {
   "cell_type": "code",
   "execution_count": 142,
   "metadata": {},
   "outputs": [],
   "source": [
    "import logging\n",
    "m=[3,4,[5,6],8,10,[24,65]]\n",
    "logging.basicConfig(filename= 'test.log' , level=logging.INFO)\n",
    "logging.info(\"start of my prog\")\n",
    "logging.info(m)\n",
    "for i in m :\n",
    "    logging.info(i)\n",
    "logging.info(\"end of prog\")"
   ]
  },
  {
   "cell_type": "code",
   "execution_count": null,
   "metadata": {},
   "outputs": [],
   "source": []
  }
 ],
 "metadata": {
  "kernelspec": {
   "display_name": "Python 3",
   "language": "python",
   "name": "python3"
  },
  "language_info": {
   "codemirror_mode": {
    "name": "ipython",
    "version": 3
   },
   "file_extension": ".py",
   "mimetype": "text/x-python",
   "name": "python",
   "nbconvert_exporter": "python",
   "pygments_lexer": "ipython3",
   "version": "3.11.0"
  }
 },
 "nbformat": 4,
 "nbformat_minor": 2
}
